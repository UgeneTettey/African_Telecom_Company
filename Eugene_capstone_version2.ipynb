{
  "nbformat": 4,
  "nbformat_minor": 0,
  "metadata": {
    "colab": {
      "provenance": []
    },
    "kernelspec": {
      "name": "python3",
      "display_name": "Python 3"
    },
    "language_info": {
      "name": "python"
    }
  },
  "cells": [
    {
      "cell_type": "code",
      "execution_count": 1,
      "metadata": {
        "colab": {
          "base_uri": "https://localhost:8080/"
        },
        "id": "evEswanqEEYn",
        "outputId": "79679657-d0d7-4116-c569-256f7808ad93"
      },
      "outputs": [
        {
          "output_type": "stream",
          "name": "stdout",
          "text": [
            "Mounted at /content/gdrive\n"
          ]
        }
      ],
      "source": [
        "# mount gdrive\n",
        "from google.colab import drive\n",
        "drive.mount('/content/gdrive')"
      ]
    },
    {
      "cell_type": "code",
      "source": [
        "# import libraries\n",
        "import numpy as np\n",
        "import pandas as pd\n",
        "import matplotlib.pyplot as plt\n",
        "import seaborn as sns\n",
        "from scipy.stats import uniform, randint\n",
        "\n",
        "from sklearn.preprocessing import LabelEncoder, StandardScaler\n",
        "from sklearn.impute import SimpleImputer\n",
        "\n",
        "from imblearn.over_sampling import SMOTE\n",
        "from imblearn.combine import SMOTEENN\n",
        "\n",
        "from sklearn.decomposition import PCA\n",
        "from sklearn.feature_selection import SelectKBest, f_classif\n",
        "from sklearn.model_selection import train_test_split, RandomizedSearchCV\n",
        "from sklearn.linear_model import LogisticRegression\n",
        "from sklearn.tree import DecisionTreeClassifier\n",
        "from sklearn.ensemble import RandomForestClassifier\n",
        "import xgboost as xgb\n",
        "from sklearn.metrics import confusion_matrix, accuracy_score, classification_report\n",
        "\n",
        "\n",
        "import joblib\n",
        "import pickle\n",
        "\n",
        "\n",
        "import warnings\n",
        "warnings.filterwarnings('ignore')\n"
      ],
      "metadata": {
        "id": "G3TBvHd-EHgl"
      },
      "execution_count": 35,
      "outputs": []
    },
    {
      "cell_type": "code",
      "source": [
        "# read the dataset\n",
        "df = pd.read_csv('/content/gdrive/MyDrive/Blossom_fellowship(Data_Science)/group_capstone/Data.csv')\n",
        "df.head()"
      ],
      "metadata": {
        "colab": {
          "base_uri": "https://localhost:8080/",
          "height": 330
        },
        "id": "sL0JqiTwEOEe",
        "outputId": "eff9653b-b549-4650-9ff5-6abc487c651f"
      },
      "execution_count": 36,
      "outputs": [
        {
          "output_type": "execute_result",
          "data": {
            "text/plain": [
              "                                    user_id       REGION        TENURE  \\\n",
              "0  dcf68cc2fb515ccad7d8b9b3bd80ee2a4b270063  SAINT-LOUIS  K > 24 month   \n",
              "1  71c44b5ba328db5c4192a80f7cf8f244d9350ed0          NaN  K > 24 month   \n",
              "2  ce46411b1526c94f20a383b8cb188f8d27f82a0a  TAMBACOUNDA  K > 24 month   \n",
              "3  f467cdb6669818373c26c2bad44e01ba66f97d21       FATICK  K > 24 month   \n",
              "4  ec45e1a1888a32b5dcce0954cfec20c6e037db31       FATICK  K > 24 month   \n",
              "\n",
              "   MONTANT  FREQUENCE_RECH  REVENUE  ARPU_SEGMENT  FREQUENCE  DATA_VOLUME  \\\n",
              "0  17000.0            32.0  18000.0        6000.0       34.0          NaN   \n",
              "1   4300.0            29.0   4427.0        1476.0       37.0       1764.0   \n",
              "2   1500.0             3.0   1500.0         500.0        3.0          NaN   \n",
              "3   1500.0             3.0   2497.0         832.0        4.0          0.0   \n",
              "4      NaN             NaN    498.0         166.0        3.0          1.0   \n",
              "\n",
              "   ON_NET  ORANGE  TIGO  ZONE1  ZONE2 MRG  REGULARITY  \\\n",
              "0    97.0   355.0   6.0    NaN    NaN  NO          62   \n",
              "1     8.0     3.0   0.0    NaN    2.0  NO          40   \n",
              "2    30.0    30.0   NaN    NaN    NaN  NO          32   \n",
              "3   159.0    45.0  19.0    NaN    NaN  NO          18   \n",
              "4     1.0     3.0   NaN    NaN    NaN  NO          50   \n",
              "\n",
              "                         TOP_PACK  FREQ_TOP_PACK  CHURN  \n",
              "0           All-net 500F=2000F;5d           35.0      0  \n",
              "1            Data: 100 F=40MB,24H           22.0      0  \n",
              "2           All-net 500F=2000F;5d            3.0      0  \n",
              "3  On net 200F=Unlimited _call24H            3.0      0  \n",
              "4                             NaN            NaN      0  "
            ],
            "text/html": [
              "\n",
              "  <div id=\"df-087aec99-8fe2-43f8-8ac4-21b20470ce68\" class=\"colab-df-container\">\n",
              "    <div>\n",
              "<style scoped>\n",
              "    .dataframe tbody tr th:only-of-type {\n",
              "        vertical-align: middle;\n",
              "    }\n",
              "\n",
              "    .dataframe tbody tr th {\n",
              "        vertical-align: top;\n",
              "    }\n",
              "\n",
              "    .dataframe thead th {\n",
              "        text-align: right;\n",
              "    }\n",
              "</style>\n",
              "<table border=\"1\" class=\"dataframe\">\n",
              "  <thead>\n",
              "    <tr style=\"text-align: right;\">\n",
              "      <th></th>\n",
              "      <th>user_id</th>\n",
              "      <th>REGION</th>\n",
              "      <th>TENURE</th>\n",
              "      <th>MONTANT</th>\n",
              "      <th>FREQUENCE_RECH</th>\n",
              "      <th>REVENUE</th>\n",
              "      <th>ARPU_SEGMENT</th>\n",
              "      <th>FREQUENCE</th>\n",
              "      <th>DATA_VOLUME</th>\n",
              "      <th>ON_NET</th>\n",
              "      <th>ORANGE</th>\n",
              "      <th>TIGO</th>\n",
              "      <th>ZONE1</th>\n",
              "      <th>ZONE2</th>\n",
              "      <th>MRG</th>\n",
              "      <th>REGULARITY</th>\n",
              "      <th>TOP_PACK</th>\n",
              "      <th>FREQ_TOP_PACK</th>\n",
              "      <th>CHURN</th>\n",
              "    </tr>\n",
              "  </thead>\n",
              "  <tbody>\n",
              "    <tr>\n",
              "      <th>0</th>\n",
              "      <td>dcf68cc2fb515ccad7d8b9b3bd80ee2a4b270063</td>\n",
              "      <td>SAINT-LOUIS</td>\n",
              "      <td>K &gt; 24 month</td>\n",
              "      <td>17000.0</td>\n",
              "      <td>32.0</td>\n",
              "      <td>18000.0</td>\n",
              "      <td>6000.0</td>\n",
              "      <td>34.0</td>\n",
              "      <td>NaN</td>\n",
              "      <td>97.0</td>\n",
              "      <td>355.0</td>\n",
              "      <td>6.0</td>\n",
              "      <td>NaN</td>\n",
              "      <td>NaN</td>\n",
              "      <td>NO</td>\n",
              "      <td>62</td>\n",
              "      <td>All-net 500F=2000F;5d</td>\n",
              "      <td>35.0</td>\n",
              "      <td>0</td>\n",
              "    </tr>\n",
              "    <tr>\n",
              "      <th>1</th>\n",
              "      <td>71c44b5ba328db5c4192a80f7cf8f244d9350ed0</td>\n",
              "      <td>NaN</td>\n",
              "      <td>K &gt; 24 month</td>\n",
              "      <td>4300.0</td>\n",
              "      <td>29.0</td>\n",
              "      <td>4427.0</td>\n",
              "      <td>1476.0</td>\n",
              "      <td>37.0</td>\n",
              "      <td>1764.0</td>\n",
              "      <td>8.0</td>\n",
              "      <td>3.0</td>\n",
              "      <td>0.0</td>\n",
              "      <td>NaN</td>\n",
              "      <td>2.0</td>\n",
              "      <td>NO</td>\n",
              "      <td>40</td>\n",
              "      <td>Data: 100 F=40MB,24H</td>\n",
              "      <td>22.0</td>\n",
              "      <td>0</td>\n",
              "    </tr>\n",
              "    <tr>\n",
              "      <th>2</th>\n",
              "      <td>ce46411b1526c94f20a383b8cb188f8d27f82a0a</td>\n",
              "      <td>TAMBACOUNDA</td>\n",
              "      <td>K &gt; 24 month</td>\n",
              "      <td>1500.0</td>\n",
              "      <td>3.0</td>\n",
              "      <td>1500.0</td>\n",
              "      <td>500.0</td>\n",
              "      <td>3.0</td>\n",
              "      <td>NaN</td>\n",
              "      <td>30.0</td>\n",
              "      <td>30.0</td>\n",
              "      <td>NaN</td>\n",
              "      <td>NaN</td>\n",
              "      <td>NaN</td>\n",
              "      <td>NO</td>\n",
              "      <td>32</td>\n",
              "      <td>All-net 500F=2000F;5d</td>\n",
              "      <td>3.0</td>\n",
              "      <td>0</td>\n",
              "    </tr>\n",
              "    <tr>\n",
              "      <th>3</th>\n",
              "      <td>f467cdb6669818373c26c2bad44e01ba66f97d21</td>\n",
              "      <td>FATICK</td>\n",
              "      <td>K &gt; 24 month</td>\n",
              "      <td>1500.0</td>\n",
              "      <td>3.0</td>\n",
              "      <td>2497.0</td>\n",
              "      <td>832.0</td>\n",
              "      <td>4.0</td>\n",
              "      <td>0.0</td>\n",
              "      <td>159.0</td>\n",
              "      <td>45.0</td>\n",
              "      <td>19.0</td>\n",
              "      <td>NaN</td>\n",
              "      <td>NaN</td>\n",
              "      <td>NO</td>\n",
              "      <td>18</td>\n",
              "      <td>On net 200F=Unlimited _call24H</td>\n",
              "      <td>3.0</td>\n",
              "      <td>0</td>\n",
              "    </tr>\n",
              "    <tr>\n",
              "      <th>4</th>\n",
              "      <td>ec45e1a1888a32b5dcce0954cfec20c6e037db31</td>\n",
              "      <td>FATICK</td>\n",
              "      <td>K &gt; 24 month</td>\n",
              "      <td>NaN</td>\n",
              "      <td>NaN</td>\n",
              "      <td>498.0</td>\n",
              "      <td>166.0</td>\n",
              "      <td>3.0</td>\n",
              "      <td>1.0</td>\n",
              "      <td>1.0</td>\n",
              "      <td>3.0</td>\n",
              "      <td>NaN</td>\n",
              "      <td>NaN</td>\n",
              "      <td>NaN</td>\n",
              "      <td>NO</td>\n",
              "      <td>50</td>\n",
              "      <td>NaN</td>\n",
              "      <td>NaN</td>\n",
              "      <td>0</td>\n",
              "    </tr>\n",
              "  </tbody>\n",
              "</table>\n",
              "</div>\n",
              "    <div class=\"colab-df-buttons\">\n",
              "\n",
              "  <div class=\"colab-df-container\">\n",
              "    <button class=\"colab-df-convert\" onclick=\"convertToInteractive('df-087aec99-8fe2-43f8-8ac4-21b20470ce68')\"\n",
              "            title=\"Convert this dataframe to an interactive table.\"\n",
              "            style=\"display:none;\">\n",
              "\n",
              "  <svg xmlns=\"http://www.w3.org/2000/svg\" height=\"24px\" viewBox=\"0 -960 960 960\">\n",
              "    <path d=\"M120-120v-720h720v720H120Zm60-500h600v-160H180v160Zm220 220h160v-160H400v160Zm0 220h160v-160H400v160ZM180-400h160v-160H180v160Zm440 0h160v-160H620v160ZM180-180h160v-160H180v160Zm440 0h160v-160H620v160Z\"/>\n",
              "  </svg>\n",
              "    </button>\n",
              "\n",
              "  <style>\n",
              "    .colab-df-container {\n",
              "      display:flex;\n",
              "      gap: 12px;\n",
              "    }\n",
              "\n",
              "    .colab-df-convert {\n",
              "      background-color: #E8F0FE;\n",
              "      border: none;\n",
              "      border-radius: 50%;\n",
              "      cursor: pointer;\n",
              "      display: none;\n",
              "      fill: #1967D2;\n",
              "      height: 32px;\n",
              "      padding: 0 0 0 0;\n",
              "      width: 32px;\n",
              "    }\n",
              "\n",
              "    .colab-df-convert:hover {\n",
              "      background-color: #E2EBFA;\n",
              "      box-shadow: 0px 1px 2px rgba(60, 64, 67, 0.3), 0px 1px 3px 1px rgba(60, 64, 67, 0.15);\n",
              "      fill: #174EA6;\n",
              "    }\n",
              "\n",
              "    .colab-df-buttons div {\n",
              "      margin-bottom: 4px;\n",
              "    }\n",
              "\n",
              "    [theme=dark] .colab-df-convert {\n",
              "      background-color: #3B4455;\n",
              "      fill: #D2E3FC;\n",
              "    }\n",
              "\n",
              "    [theme=dark] .colab-df-convert:hover {\n",
              "      background-color: #434B5C;\n",
              "      box-shadow: 0px 1px 3px 1px rgba(0, 0, 0, 0.15);\n",
              "      filter: drop-shadow(0px 1px 2px rgba(0, 0, 0, 0.3));\n",
              "      fill: #FFFFFF;\n",
              "    }\n",
              "  </style>\n",
              "\n",
              "    <script>\n",
              "      const buttonEl =\n",
              "        document.querySelector('#df-087aec99-8fe2-43f8-8ac4-21b20470ce68 button.colab-df-convert');\n",
              "      buttonEl.style.display =\n",
              "        google.colab.kernel.accessAllowed ? 'block' : 'none';\n",
              "\n",
              "      async function convertToInteractive(key) {\n",
              "        const element = document.querySelector('#df-087aec99-8fe2-43f8-8ac4-21b20470ce68');\n",
              "        const dataTable =\n",
              "          await google.colab.kernel.invokeFunction('convertToInteractive',\n",
              "                                                    [key], {});\n",
              "        if (!dataTable) return;\n",
              "\n",
              "        const docLinkHtml = 'Like what you see? Visit the ' +\n",
              "          '<a target=\"_blank\" href=https://colab.research.google.com/notebooks/data_table.ipynb>data table notebook</a>'\n",
              "          + ' to learn more about interactive tables.';\n",
              "        element.innerHTML = '';\n",
              "        dataTable['output_type'] = 'display_data';\n",
              "        await google.colab.output.renderOutput(dataTable, element);\n",
              "        const docLink = document.createElement('div');\n",
              "        docLink.innerHTML = docLinkHtml;\n",
              "        element.appendChild(docLink);\n",
              "      }\n",
              "    </script>\n",
              "  </div>\n",
              "\n",
              "\n",
              "<div id=\"df-dbc3e04d-974b-454e-839a-aa245f41f2d7\">\n",
              "  <button class=\"colab-df-quickchart\" onclick=\"quickchart('df-dbc3e04d-974b-454e-839a-aa245f41f2d7')\"\n",
              "            title=\"Suggest charts\"\n",
              "            style=\"display:none;\">\n",
              "\n",
              "<svg xmlns=\"http://www.w3.org/2000/svg\" height=\"24px\"viewBox=\"0 0 24 24\"\n",
              "     width=\"24px\">\n",
              "    <g>\n",
              "        <path d=\"M19 3H5c-1.1 0-2 .9-2 2v14c0 1.1.9 2 2 2h14c1.1 0 2-.9 2-2V5c0-1.1-.9-2-2-2zM9 17H7v-7h2v7zm4 0h-2V7h2v10zm4 0h-2v-4h2v4z\"/>\n",
              "    </g>\n",
              "</svg>\n",
              "  </button>\n",
              "\n",
              "<style>\n",
              "  .colab-df-quickchart {\n",
              "      --bg-color: #E8F0FE;\n",
              "      --fill-color: #1967D2;\n",
              "      --hover-bg-color: #E2EBFA;\n",
              "      --hover-fill-color: #174EA6;\n",
              "      --disabled-fill-color: #AAA;\n",
              "      --disabled-bg-color: #DDD;\n",
              "  }\n",
              "\n",
              "  [theme=dark] .colab-df-quickchart {\n",
              "      --bg-color: #3B4455;\n",
              "      --fill-color: #D2E3FC;\n",
              "      --hover-bg-color: #434B5C;\n",
              "      --hover-fill-color: #FFFFFF;\n",
              "      --disabled-bg-color: #3B4455;\n",
              "      --disabled-fill-color: #666;\n",
              "  }\n",
              "\n",
              "  .colab-df-quickchart {\n",
              "    background-color: var(--bg-color);\n",
              "    border: none;\n",
              "    border-radius: 50%;\n",
              "    cursor: pointer;\n",
              "    display: none;\n",
              "    fill: var(--fill-color);\n",
              "    height: 32px;\n",
              "    padding: 0;\n",
              "    width: 32px;\n",
              "  }\n",
              "\n",
              "  .colab-df-quickchart:hover {\n",
              "    background-color: var(--hover-bg-color);\n",
              "    box-shadow: 0 1px 2px rgba(60, 64, 67, 0.3), 0 1px 3px 1px rgba(60, 64, 67, 0.15);\n",
              "    fill: var(--button-hover-fill-color);\n",
              "  }\n",
              "\n",
              "  .colab-df-quickchart-complete:disabled,\n",
              "  .colab-df-quickchart-complete:disabled:hover {\n",
              "    background-color: var(--disabled-bg-color);\n",
              "    fill: var(--disabled-fill-color);\n",
              "    box-shadow: none;\n",
              "  }\n",
              "\n",
              "  .colab-df-spinner {\n",
              "    border: 2px solid var(--fill-color);\n",
              "    border-color: transparent;\n",
              "    border-bottom-color: var(--fill-color);\n",
              "    animation:\n",
              "      spin 1s steps(1) infinite;\n",
              "  }\n",
              "\n",
              "  @keyframes spin {\n",
              "    0% {\n",
              "      border-color: transparent;\n",
              "      border-bottom-color: var(--fill-color);\n",
              "      border-left-color: var(--fill-color);\n",
              "    }\n",
              "    20% {\n",
              "      border-color: transparent;\n",
              "      border-left-color: var(--fill-color);\n",
              "      border-top-color: var(--fill-color);\n",
              "    }\n",
              "    30% {\n",
              "      border-color: transparent;\n",
              "      border-left-color: var(--fill-color);\n",
              "      border-top-color: var(--fill-color);\n",
              "      border-right-color: var(--fill-color);\n",
              "    }\n",
              "    40% {\n",
              "      border-color: transparent;\n",
              "      border-right-color: var(--fill-color);\n",
              "      border-top-color: var(--fill-color);\n",
              "    }\n",
              "    60% {\n",
              "      border-color: transparent;\n",
              "      border-right-color: var(--fill-color);\n",
              "    }\n",
              "    80% {\n",
              "      border-color: transparent;\n",
              "      border-right-color: var(--fill-color);\n",
              "      border-bottom-color: var(--fill-color);\n",
              "    }\n",
              "    90% {\n",
              "      border-color: transparent;\n",
              "      border-bottom-color: var(--fill-color);\n",
              "    }\n",
              "  }\n",
              "</style>\n",
              "\n",
              "  <script>\n",
              "    async function quickchart(key) {\n",
              "      const quickchartButtonEl =\n",
              "        document.querySelector('#' + key + ' button');\n",
              "      quickchartButtonEl.disabled = true;  // To prevent multiple clicks.\n",
              "      quickchartButtonEl.classList.add('colab-df-spinner');\n",
              "      try {\n",
              "        const charts = await google.colab.kernel.invokeFunction(\n",
              "            'suggestCharts', [key], {});\n",
              "      } catch (error) {\n",
              "        console.error('Error during call to suggestCharts:', error);\n",
              "      }\n",
              "      quickchartButtonEl.classList.remove('colab-df-spinner');\n",
              "      quickchartButtonEl.classList.add('colab-df-quickchart-complete');\n",
              "    }\n",
              "    (() => {\n",
              "      let quickchartButtonEl =\n",
              "        document.querySelector('#df-dbc3e04d-974b-454e-839a-aa245f41f2d7 button');\n",
              "      quickchartButtonEl.style.display =\n",
              "        google.colab.kernel.accessAllowed ? 'block' : 'none';\n",
              "    })();\n",
              "  </script>\n",
              "</div>\n",
              "\n",
              "    </div>\n",
              "  </div>\n"
            ],
            "application/vnd.google.colaboratory.intrinsic+json": {
              "type": "dataframe",
              "variable_name": "df"
            }
          },
          "metadata": {},
          "execution_count": 36
        }
      ]
    },
    {
      "cell_type": "code",
      "source": [
        "df.info()"
      ],
      "metadata": {
        "colab": {
          "base_uri": "https://localhost:8080/"
        },
        "id": "V0FiUjtB5Ejh",
        "outputId": "cf321c43-1b37-4821-c727-1a1c063ab067"
      },
      "execution_count": 37,
      "outputs": [
        {
          "output_type": "stream",
          "name": "stdout",
          "text": [
            "<class 'pandas.core.frame.DataFrame'>\n",
            "RangeIndex: 400000 entries, 0 to 399999\n",
            "Data columns (total 19 columns):\n",
            " #   Column          Non-Null Count   Dtype  \n",
            "---  ------          --------------   -----  \n",
            " 0   user_id         400000 non-null  object \n",
            " 1   REGION          242480 non-null  object \n",
            " 2   TENURE          400000 non-null  object \n",
            " 3   MONTANT         259723 non-null  float64\n",
            " 4   FREQUENCE_RECH  259723 non-null  float64\n",
            " 5   REVENUE         265337 non-null  float64\n",
            " 6   ARPU_SEGMENT    265337 non-null  float64\n",
            " 7   FREQUENCE       265337 non-null  float64\n",
            " 8   DATA_VOLUME     203146 non-null  float64\n",
            " 9   ON_NET          254181 non-null  float64\n",
            " 10  ORANGE          233683 non-null  float64\n",
            " 11  TIGO            160614 non-null  float64\n",
            " 12  ZONE1           31690 non-null   float64\n",
            " 13  ZONE2           25513 non-null   float64\n",
            " 14  MRG             400000 non-null  object \n",
            " 15  REGULARITY      400000 non-null  int64  \n",
            " 16  TOP_PACK        232671 non-null  object \n",
            " 17  FREQ_TOP_PACK   232671 non-null  float64\n",
            " 18  CHURN           400000 non-null  int64  \n",
            "dtypes: float64(12), int64(2), object(5)\n",
            "memory usage: 58.0+ MB\n"
          ]
        }
      ]
    },
    {
      "cell_type": "code",
      "source": [
        "# check missing values\n",
        "df.isnull().sum()"
      ],
      "metadata": {
        "colab": {
          "base_uri": "https://localhost:8080/",
          "height": 680
        },
        "id": "x_VWXoSB5Ngv",
        "outputId": "2f6078ff-68c0-47c2-f9c3-53c13f4577e2"
      },
      "execution_count": 38,
      "outputs": [
        {
          "output_type": "execute_result",
          "data": {
            "text/plain": [
              "user_id                0\n",
              "REGION            157520\n",
              "TENURE                 0\n",
              "MONTANT           140277\n",
              "FREQUENCE_RECH    140277\n",
              "REVENUE           134663\n",
              "ARPU_SEGMENT      134663\n",
              "FREQUENCE         134663\n",
              "DATA_VOLUME       196854\n",
              "ON_NET            145819\n",
              "ORANGE            166317\n",
              "TIGO              239386\n",
              "ZONE1             368310\n",
              "ZONE2             374487\n",
              "MRG                    0\n",
              "REGULARITY             0\n",
              "TOP_PACK          167329\n",
              "FREQ_TOP_PACK     167329\n",
              "CHURN                  0\n",
              "dtype: int64"
            ],
            "text/html": [
              "<table border=\"1\" class=\"dataframe\">\n",
              "  <thead>\n",
              "    <tr style=\"text-align: right;\">\n",
              "      <th></th>\n",
              "      <th>0</th>\n",
              "    </tr>\n",
              "  </thead>\n",
              "  <tbody>\n",
              "    <tr>\n",
              "      <th>user_id</th>\n",
              "      <td>0</td>\n",
              "    </tr>\n",
              "    <tr>\n",
              "      <th>REGION</th>\n",
              "      <td>157520</td>\n",
              "    </tr>\n",
              "    <tr>\n",
              "      <th>TENURE</th>\n",
              "      <td>0</td>\n",
              "    </tr>\n",
              "    <tr>\n",
              "      <th>MONTANT</th>\n",
              "      <td>140277</td>\n",
              "    </tr>\n",
              "    <tr>\n",
              "      <th>FREQUENCE_RECH</th>\n",
              "      <td>140277</td>\n",
              "    </tr>\n",
              "    <tr>\n",
              "      <th>REVENUE</th>\n",
              "      <td>134663</td>\n",
              "    </tr>\n",
              "    <tr>\n",
              "      <th>ARPU_SEGMENT</th>\n",
              "      <td>134663</td>\n",
              "    </tr>\n",
              "    <tr>\n",
              "      <th>FREQUENCE</th>\n",
              "      <td>134663</td>\n",
              "    </tr>\n",
              "    <tr>\n",
              "      <th>DATA_VOLUME</th>\n",
              "      <td>196854</td>\n",
              "    </tr>\n",
              "    <tr>\n",
              "      <th>ON_NET</th>\n",
              "      <td>145819</td>\n",
              "    </tr>\n",
              "    <tr>\n",
              "      <th>ORANGE</th>\n",
              "      <td>166317</td>\n",
              "    </tr>\n",
              "    <tr>\n",
              "      <th>TIGO</th>\n",
              "      <td>239386</td>\n",
              "    </tr>\n",
              "    <tr>\n",
              "      <th>ZONE1</th>\n",
              "      <td>368310</td>\n",
              "    </tr>\n",
              "    <tr>\n",
              "      <th>ZONE2</th>\n",
              "      <td>374487</td>\n",
              "    </tr>\n",
              "    <tr>\n",
              "      <th>MRG</th>\n",
              "      <td>0</td>\n",
              "    </tr>\n",
              "    <tr>\n",
              "      <th>REGULARITY</th>\n",
              "      <td>0</td>\n",
              "    </tr>\n",
              "    <tr>\n",
              "      <th>TOP_PACK</th>\n",
              "      <td>167329</td>\n",
              "    </tr>\n",
              "    <tr>\n",
              "      <th>FREQ_TOP_PACK</th>\n",
              "      <td>167329</td>\n",
              "    </tr>\n",
              "    <tr>\n",
              "      <th>CHURN</th>\n",
              "      <td>0</td>\n",
              "    </tr>\n",
              "  </tbody>\n",
              "</table><br><label><b>dtype:</b> int64</label>"
            ]
          },
          "metadata": {},
          "execution_count": 38
        }
      ]
    },
    {
      "cell_type": "markdown",
      "source": [
        "### Drop Columns not Needed"
      ],
      "metadata": {
        "id": "8DUQHOwdGXlm"
      }
    },
    {
      "cell_type": "code",
      "source": [
        "# drop columns of no effect/use: user_id, tigo, zone1, zone2 columns\n",
        "df = df.drop(columns=['user_id', 'TIGO', 'ZONE1', 'ZONE2'], axis=1)\n",
        "df.columns"
      ],
      "metadata": {
        "colab": {
          "base_uri": "https://localhost:8080/"
        },
        "id": "lXnALwrLEYkA",
        "outputId": "180304e8-2ef1-462f-b61f-094273b49b17"
      },
      "execution_count": 39,
      "outputs": [
        {
          "output_type": "execute_result",
          "data": {
            "text/plain": [
              "Index(['REGION', 'TENURE', 'MONTANT', 'FREQUENCE_RECH', 'REVENUE',\n",
              "       'ARPU_SEGMENT', 'FREQUENCE', 'DATA_VOLUME', 'ON_NET', 'ORANGE', 'MRG',\n",
              "       'REGULARITY', 'TOP_PACK', 'FREQ_TOP_PACK', 'CHURN'],\n",
              "      dtype='object')"
            ]
          },
          "metadata": {},
          "execution_count": 39
        }
      ]
    },
    {
      "cell_type": "code",
      "source": [
        "# distribution of numerical features\n",
        "numerical_columns = df.select_dtypes(include=['float', 'int']).columns.tolist()\n",
        "print(\" Distribution of numerical columns:\", numerical_columns)\n",
        "\n",
        "# create the figure\n",
        "plt.figure(figsize=(18,12))\n",
        "\n",
        "for i, column in enumerate(numerical_columns, 1):\n",
        "    plt.subplot(5, 3, i)\n",
        "    sns.histplot(df[column], kde=True, bins=20)\n",
        "    plt.title(f'Distibution of {column}')\n",
        "    plt.xlabel(column)\n",
        "    plt.ylabel('Frequency')\n",
        "\n",
        "plt.tight_layout()\n",
        "plt.show()"
      ],
      "metadata": {
        "colab": {
          "base_uri": "https://localhost:8080/",
          "height": 458
        },
        "id": "_FnEzG_T5Y2l",
        "outputId": "3753f881-ab8a-4310-c729-81d224f920d1"
      },
      "execution_count": 40,
      "outputs": [
        {
          "output_type": "stream",
          "name": "stdout",
          "text": [
            " Distribution of numerical columns: ['MONTANT', 'FREQUENCE_RECH', 'REVENUE', 'ARPU_SEGMENT', 'FREQUENCE', 'DATA_VOLUME', 'ON_NET', 'ORANGE', 'REGULARITY', 'FREQ_TOP_PACK', 'CHURN']\n"
          ]
        },
        {
          "output_type": "display_data",
          "data": {
            "text/plain": [
              "<Figure size 1800x1200 with 11 Axes>"
            ],
            "image/png": "[encoded data removed]"
          },
          "metadata": {}
        }
      ]
    },
    {
      "cell_type": "markdown",
      "source": [
        "### Data Splitting"
      ],
      "metadata": {
        "id": "mcYoeoVZGbc-"
      }
    },
    {
      "cell_type": "markdown",
      "source": [],
      "metadata": {
        "id": "_A2mLZo4Gbbq"
      }
    },
    {
      "cell_type": "code",
      "source": [
        "# defining features and targets:\n",
        "X = df.drop('CHURN', axis=1)\n",
        "y = df['CHURN']"
      ],
      "metadata": {
        "id": "WM_F9SqZEah6"
      },
      "execution_count": 5,
      "outputs": []
    },
    {
      "cell_type": "code",
      "source": [
        "# split data into train and test\n",
        "X_train, X_test, y_train, y_test = train_test_split(X, y, test_size=0.1, random_state=42)"
      ],
      "metadata": {
        "id": "ZZZZViRxEcsk"
      },
      "execution_count": 6,
      "outputs": []
    },
    {
      "cell_type": "markdown",
      "source": [
        "### Main Preprocessing Steps (1.0)"
      ],
      "metadata": {
        "id": "CHkwWqYyGjOE"
      }
    },
    {
      "cell_type": "markdown",
      "source": [
        "#### Handle Missing Values"
      ],
      "metadata": {
        "id": "4aG6kAIHGm3Y"
      }
    },
    {
      "cell_type": "code",
      "source": [
        "# impute numerical columns with median\n",
        "numerical_cols = X_train.select_dtypes(include=['float', 'int']).columns\n",
        "\n",
        "median_imputer = SimpleImputer(strategy='median')\n",
        "# fit imputer on training data\n",
        "median_imputer.fit(X_train[numerical_cols])\n",
        "\n",
        "# transform the training and test data\n",
        "X_train[numerical_cols] = median_imputer.transform(X_train[numerical_cols])\n",
        "X_test[numerical_cols] = median_imputer.transform(X_test[numerical_cols])"
      ],
      "metadata": {
        "id": "GEOPxte1EeEr"
      },
      "execution_count": 7,
      "outputs": []
    },
    {
      "cell_type": "code",
      "source": [
        "# impute categorical columns with mode(mos frequent)\n",
        "\n",
        "categorical_cols = X_train.select_dtypes(include=['object']).columns\n",
        "\n",
        "mode_imputer = SimpleImputer(strategy='most_frequent')\n",
        "# fit on the training data\n",
        "mode_imputer.fit(X_train[categorical_cols])\n",
        "\n",
        "# transform the train and test data\n",
        "X_train[categorical_cols] = mode_imputer.transform(X_train[categorical_cols])\n",
        "X_test[categorical_cols] = mode_imputer.transform(X_test[categorical_cols])"
      ],
      "metadata": {
        "id": "TE27_-rbEgli"
      },
      "execution_count": 8,
      "outputs": []
    },
    {
      "cell_type": "markdown",
      "source": [
        "#### Label Encoding"
      ],
      "metadata": {
        "id": "yYJmbM2aGsJo"
      }
    },
    {
      "cell_type": "code",
      "source": [
        "# functoin to perform label encoding\n",
        "def fit_and_transform(le, train_data, test_data):\n",
        "    # fit encoder on the train data\n",
        "    le.fit(train_data)\n",
        "    # Transform train data\n",
        "    train_transformed = le.transform(train_data)\n",
        "\n",
        "    # Transform test data, handling unseen labels if any\n",
        "    test_transformed = np.array([le.transform([val])[0] if val in le.classes_ else -1 for val in test_data])\n",
        "\n",
        "    return train_transformed, test_transformed"
      ],
      "metadata": {
        "id": "pO2XCI95Eicb"
      },
      "execution_count": 9,
      "outputs": []
    },
    {
      "cell_type": "code",
      "source": [
        "for col in X_train.select_dtypes(include=['object']).columns:\n",
        "    le = LabelEncoder()\n",
        "    X_train[col], X_test[col] = fit_and_transform(le, X_train[col], X_test[col])"
      ],
      "metadata": {
        "id": "h635vtncEkcc"
      },
      "execution_count": 10,
      "outputs": []
    },
    {
      "cell_type": "markdown",
      "source": [
        "#### Scaling Data"
      ],
      "metadata": {
        "id": "eM0zNugEGvYI"
      }
    },
    {
      "cell_type": "code",
      "source": [
        "scaler = StandardScaler()\n",
        "\n",
        "# fit and transform the train set\n",
        "X_train_scaled = pd.DataFrame(scaler.fit_transform(X_train), columns=X_train.columns)\n",
        "\n",
        "# transform the test set\n",
        "X_test_scaled = pd.DataFrame(scaler.transform(X_test), columns=X_test.columns)"
      ],
      "metadata": {
        "id": "ztzmtQ4HEmrm"
      },
      "execution_count": 11,
      "outputs": []
    },
    {
      "cell_type": "markdown",
      "source": [
        "### Model Training(XGBoost)"
      ],
      "metadata": {
        "id": "anTeTelLGxgW"
      }
    },
    {
      "cell_type": "code",
      "source": [
        "xg_model = xgb.XGBClassifier(objective='binary:logistic',\n",
        "                          max_depth=3,\n",
        "                          learning_rate=0.1,\n",
        "                          n_estimators=100)\n",
        "\n",
        "# make predictions\n",
        "xg_model.fit(X_train_scaled, y_train)\n",
        "\n",
        "# evaluate model\n",
        "y_pred = xg_model.predict(X_test_scaled)\n",
        "accuracy = accuracy_score(y_test, y_pred)\n",
        "report = classification_report(y_test, y_pred)\n",
        "\n",
        "print(f\"Accuracy: {accuracy:.2f}\")\n",
        "print(f\"Classification report:\\n {report}\")\n"
      ],
      "metadata": {
        "colab": {
          "base_uri": "https://localhost:8080/"
        },
        "id": "4_9Yo1fHErNY",
        "outputId": "4a5b10ff-9d4e-43b1-eec4-87fd8c778e82"
      },
      "execution_count": 25,
      "outputs": [
        {
          "output_type": "stream",
          "name": "stdout",
          "text": [
            "Accuracy: 0.87\n",
            "Classification report:\n",
            "               precision    recall  f1-score   support\n",
            "\n",
            "           0       0.91      0.93      0.92     32585\n",
            "           1       0.67      0.61      0.64      7415\n",
            "\n",
            "    accuracy                           0.87     40000\n",
            "   macro avg       0.79      0.77      0.78     40000\n",
            "weighted avg       0.87      0.87      0.87     40000\n",
            "\n"
          ]
        }
      ]
    },
    {
      "cell_type": "markdown",
      "source": [
        "#### Preprocessing 1.1 - Applying smote"
      ],
      "metadata": {
        "id": "fxsebsvAHFqf"
      }
    },
    {
      "cell_type": "code",
      "source": [
        "# applying smote\n",
        "smote = SMOTE()\n",
        "X_train_resampled, y_train_resampled = smote.fit_resample(X_train_scaled, y_train)"
      ],
      "metadata": {
        "id": "fdJkvHGOEupt"
      },
      "execution_count": 14,
      "outputs": []
    },
    {
      "cell_type": "code",
      "source": [
        "print(\"Original training set target distribution: \", y_train.value_counts())\n",
        "print(\"resampled training set targets distribution: \", y_train_resampled.value_counts())"
      ],
      "metadata": {
        "colab": {
          "base_uri": "https://localhost:8080/"
        },
        "id": "R_zMfmg2E26l",
        "outputId": "603bc281-bcd9-496b-b580-ab58c74df7bb"
      },
      "execution_count": 15,
      "outputs": [
        {
          "output_type": "stream",
          "name": "stdout",
          "text": [
            "Original training set target distribution:  CHURN\n",
            "0    292571\n",
            "1     67429\n",
            "Name: count, dtype: int64\n",
            "resampled training set targets distribution:  CHURN\n",
            "0    292571\n",
            "1    292571\n",
            "Name: count, dtype: int64\n"
          ]
        }
      ]
    },
    {
      "cell_type": "code",
      "source": [
        "# create the model\n",
        "xg_model2 = xgb.XGBClassifier(objective='binary:logistic',\n",
        "                          max_depth=3,\n",
        "                          learning_rate=0.1,\n",
        "                          n_estimators=100)\n",
        "\n",
        "#------------------------------------------------------\n",
        "# make predictions\n",
        "xg_model2.fit(X_train_resampled, y_train_resampled)\n",
        "\n",
        "# evaluate model\n",
        "y_pred = xg_model2.predict(X_test_scaled)\n",
        "accuracy = accuracy_score(y_test, y_pred)\n",
        "report = classification_report(y_test, y_pred)\n",
        "\n",
        "print(f\"Accuracy: {accuracy:.2f}\")\n",
        "print(f\"Classification report:\\n {report}\")\n"
      ],
      "metadata": {
        "colab": {
          "base_uri": "https://localhost:8080/"
        },
        "id": "oAWPBalpE8M3",
        "outputId": "bd66dbb2-1dfc-4ab1-f656-e2c29287cdac"
      },
      "execution_count": 24,
      "outputs": [
        {
          "output_type": "stream",
          "name": "stdout",
          "text": [
            "Accuracy: 0.83\n",
            "Classification report:\n",
            "               precision    recall  f1-score   support\n",
            "\n",
            "           0       0.96      0.82      0.89     32585\n",
            "           1       0.52      0.86      0.65      7415\n",
            "\n",
            "    accuracy                           0.83     40000\n",
            "   macro avg       0.74      0.84      0.77     40000\n",
            "weighted avg       0.88      0.83      0.84     40000\n",
            "\n"
          ]
        }
      ]
    },
    {
      "cell_type": "markdown",
      "source": [
        "### Preprocessing 1.2  \n",
        "- remove outliers\n",
        "- build model"
      ],
      "metadata": {
        "id": "JAI3P_E5Hj_o"
      }
    },
    {
      "cell_type": "code",
      "source": [
        "# removing outliers\n",
        "\n",
        "# Define a function to remove outliers based on IQR\n",
        "def remove_outliers(df):\n",
        "    Q1 = df.quantile(0.25)\n",
        "    Q3 = df.quantile(0.75)\n",
        "    IQR = Q3 - Q1\n",
        "    return df[~((df < (Q1 - 1.5 * IQR)) | (df > (Q3 + 1.5 * IQR))).any(axis=1)]\n",
        "\n",
        "# Remove outliers from the scaled training set\n",
        "X_train_cleaned = remove_outliers(X_train_scaled)\n",
        "\n",
        "# Align the target variable with the cleaned feature set\n",
        "y_train_cleaned = y_train[X_train_scaled.index.isin(X_train_cleaned.index)]"
      ],
      "metadata": {
        "id": "NPpFvSQOFBcW"
      },
      "execution_count": 17,
      "outputs": []
    },
    {
      "cell_type": "code",
      "source": [
        "# build the model\n",
        "xg_model3 = xgb.XGBClassifier(objective='binary:logistic',\n",
        "                          max_depth=3,\n",
        "                          learning_rate=0.1,\n",
        "                          n_estimators=100)\n",
        "\n",
        "# fit the model\n",
        "xg_model3.fit(X_train_cleaned, y_train_cleaned)\n",
        "\n",
        "# predict and evaluate model\n",
        "y_pred3 = xg_model3.predict(X_test_scaled)\n",
        "accuracy = accuracy_score(y_test, y_pred3)\n",
        "report = classification_report(y_test, y_pred3)\n",
        "\n",
        "print(f\"Accuracy: {accuracy:.2f}\")\n",
        "print(f\"Classification report:\\n {report}\")\n"
      ],
      "metadata": {
        "colab": {
          "base_uri": "https://localhost:8080/"
        },
        "id": "ITRYeYDmFDd1",
        "outputId": "b21bc072-e692-4f06-add6-d86bfa650659"
      },
      "execution_count": 23,
      "outputs": [
        {
          "output_type": "stream",
          "name": "stdout",
          "text": [
            "Accuracy: 0.87\n",
            "Classification report:\n",
            "               precision    recall  f1-score   support\n",
            "\n",
            "           0       0.91      0.93      0.92     32585\n",
            "           1       0.67      0.60      0.63      7415\n",
            "\n",
            "    accuracy                           0.87     40000\n",
            "   macro avg       0.79      0.77      0.78     40000\n",
            "weighted avg       0.87      0.87      0.87     40000\n",
            "\n"
          ]
        }
      ]
    },
    {
      "cell_type": "markdown",
      "source": [
        "### Preprocessing 1.3  \n",
        "- apply smote on set with no outliers\n",
        "- build model"
      ],
      "metadata": {
        "id": "Mwo8jYqYH0t4"
      }
    },
    {
      "cell_type": "code",
      "source": [
        "# using smote on cleaned set\n",
        "smote4 = SMOTE()\n",
        "X_train_clean_resampled, y_train_clean_resampled = smote4.fit_resample(X_train_cleaned, y_train_cleaned)"
      ],
      "metadata": {
        "id": "G1Oy3Cn0FPBI"
      },
      "execution_count": 19,
      "outputs": []
    },
    {
      "cell_type": "code",
      "source": [
        "# create the mode\n",
        "model4 = xgb.XGBClassifier(objective='binary:logistic',\n",
        "                          max_depth=3,\n",
        "                          learning_rate=0.1,\n",
        "                          n_estimators=100)\n",
        "\n",
        "# fit the model\n",
        "model4.fit(X_train_clean_resampled, y_train_clean_resampled)\n",
        "\n",
        "# make predictions\n",
        "pred4 = model4.predict(X_test_scaled)\n",
        "accuracy4 = accuracy_score(y_test, pred4)\n",
        "report4 = classification_report(y_test, pred4)\n",
        "# f1 = f1_score(y_test, y_pred)\n",
        "print(f\"Accuracy: {accuracy4:.2f}\")\n",
        "print(f\"Classification report:\\n {report4}\")\n",
        "# print(f\"F1-score: {f1:.2f}\")"
      ],
      "metadata": {
        "colab": {
          "base_uri": "https://localhost:8080/"
        },
        "id": "Yk9oJRYcFQZX",
        "outputId": "5eed6ab8-7b1f-4f59-8a4c-8a71f70e7a14"
      },
      "execution_count": 22,
      "outputs": [
        {
          "output_type": "stream",
          "name": "stdout",
          "text": [
            "Accuracy: 0.86\n",
            "Classification report:\n",
            "               precision    recall  f1-score   support\n",
            "\n",
            "           0       0.93      0.90      0.92     32585\n",
            "           1       0.62      0.72      0.66      7415\n",
            "\n",
            "    accuracy                           0.86     40000\n",
            "   macro avg       0.77      0.81      0.79     40000\n",
            "weighted avg       0.88      0.86      0.87     40000\n",
            "\n"
          ]
        }
      ]
    },
    {
      "cell_type": "markdown",
      "source": [
        "## Hyperparameter Tuning...  \n",
        "____  \n",
        "***Using Randomized SeachCV***"
      ],
      "metadata": {
        "id": "5uzY1_NsItB1"
      }
    },
    {
      "cell_type": "code",
      "source": [
        "param_dist1 = {\n",
        "    'max_depth': randint(3, 10),  # Random integers between 3 and 10\n",
        "    'learning_rate': uniform(0.01, 0.3),  # Uniform distribution between 0.01 and 0.3\n",
        "    'n_estimators': randint(50, 300),  # Random integers between 50 and 300\n",
        "    'subsample': uniform(0.5, 0.5),  # Uniform distribution between 0.5 and 1.0\n",
        "    'colsample_bytree': uniform(0.5, 0.5),  # Uniform distribution between 0.5 and 1.0\n",
        "    'gamma': uniform(0, 5)  # Uniform distribution between 0 and 5\n",
        "}\n",
        "\n",
        "param_dist2 = {\n",
        "    'max_depth': [3, 5, 7, 9],\n",
        "    'learning_rate': [0.01, 0.05, 0.1, 0.2],\n",
        "    'n_estimators': [100, 200, 300],\n",
        "    'subsample': [0.6, 0.8, 1.0],\n",
        "    'colsample_bytree': [0.6, 0.8, 1.0]\n",
        "}"
      ],
      "metadata": {
        "id": "lktxkzyIFTLy"
      },
      "execution_count": 26,
      "outputs": []
    },
    {
      "cell_type": "code",
      "source": [
        "# create the model\n",
        "MODEL = xgb.XGBClassifier(objective='binary:logistic',\n",
        "                          use_label_encoder=False,\n",
        "                          eval_metric='logloss',\n",
        "                          seed=42)"
      ],
      "metadata": {
        "id": "kAXOtxMOFWPN"
      },
      "execution_count": 27,
      "outputs": []
    },
    {
      "cell_type": "markdown",
      "source": [
        "### 1st Parameter Distibutions..."
      ],
      "metadata": {
        "id": "BPQGAJbKJDec"
      }
    },
    {
      "cell_type": "code",
      "source": [
        "# use randomized search cv1\n",
        "random_search1 = RandomizedSearchCV(estimator=MODEL,\n",
        "                                   param_distributions=param_dist1,\n",
        "                                   n_iter=100,  # Number of random combinations to try\n",
        "                                   scoring='f1',  # Use F1 score as the evaluation metric\n",
        "                                   cv=5,  # 5-fold cross-validation\n",
        "                                   verbose=1,\n",
        "                                   random_state=42,\n",
        "                                   n_jobs=-1)  # Use all available cores"
      ],
      "metadata": {
        "id": "IKVdAcjzFYnK"
      },
      "execution_count": 28,
      "outputs": []
    },
    {
      "cell_type": "markdown",
      "source": [
        "#### set1"
      ],
      "metadata": {
        "id": "syBkYSJkJNZl"
      }
    },
    {
      "cell_type": "code",
      "source": [
        "random_search1.fit(X_train_scaled, y_train)\n",
        "\n",
        "# get the best params and best model\n",
        "best_paramsA = random_search1.best_params_\n",
        "best_modelA = random_search1.best_estimator_\n",
        "\n",
        "print(f\"Best Hyperparameters: {best_paramsA}\")\n",
        "print(f\"Best Model: {best_modelA}\")\n",
        "\n",
        "# evaluate best model on test set\n",
        "best_y_predA = best_modelA.predict(X_test_scaled)\n",
        "best_accuracyA = accuracy_score(y_test, best_y_predA)\n",
        "reportA = classification_report(y_test, best_y_predA)\n",
        "\n",
        "# print results\n",
        "print(f\"Best model accuracy: {best_accuracyA}\")\n",
        "print(f\"classification report: {reportA}\")"
      ],
      "metadata": {
        "colab": {
          "base_uri": "https://localhost:8080/"
        },
        "id": "yrz-qbEEFbN-",
        "outputId": "660f8011-94da-478e-dd12-86d01ab8c5af"
      },
      "execution_count": 29,
      "outputs": [
        {
          "output_type": "stream",
          "name": "stdout",
          "text": [
            "Fitting 5 folds for each of 100 candidates, totalling 500 fits\n",
            "Best Hyperparameters: {'colsample_bytree': 0.7001114464360124, 'gamma': 2.3885744544011382, 'learning_rate': 0.034867396508006264, 'max_depth': 3, 'n_estimators': 215, 'subsample': 0.718167915803278}\n",
            "Best Model: XGBClassifier(base_score=None, booster=None, callbacks=None,\n",
            "              colsample_bylevel=None, colsample_bynode=None,\n",
            "              colsample_bytree=0.7001114464360124, device=None,\n",
            "              early_stopping_rounds=None, enable_categorical=False,\n",
            "              eval_metric='logloss', feature_types=None,\n",
            "              gamma=2.3885744544011382, grow_policy=None, importance_type=None,\n",
            "              interaction_constraints=None, learning_rate=0.034867396508006264,\n",
            "              max_bin=None, max_cat_threshold=None, max_cat_to_onehot=None,\n",
            "              max_delta_step=None, max_depth=3, max_leaves=None,\n",
            "              min_child_weight=None, missing=nan, monotone_constraints=None,\n",
            "              multi_strategy=None, n_estimators=215, n_jobs=None,\n",
            "              num_parallel_tree=None, random_state=None, ...)\n",
            "Best model accuracy: 0.870375\n",
            "classification report:               precision    recall  f1-score   support\n",
            "\n",
            "           0       0.91      0.93      0.92     32585\n",
            "           1       0.66      0.61      0.64      7415\n",
            "\n",
            "    accuracy                           0.87     40000\n",
            "   macro avg       0.79      0.77      0.78     40000\n",
            "weighted avg       0.87      0.87      0.87     40000\n",
            "\n"
          ]
        }
      ]
    },
    {
      "cell_type": "markdown",
      "source": [
        "#### set2"
      ],
      "metadata": {
        "id": "qjN7VWmzJSQ9"
      }
    },
    {
      "cell_type": "code",
      "source": [
        "random_search1.fit(X_train_resampled, y_train_resampled)\n",
        "\n",
        "# get the best params and best model\n",
        "best_paramsB = random_search1.best_params_\n",
        "best_modelB = random_search1.best_estimator_\n",
        "\n",
        "print(f\"Best Hyperparameters: {best_paramsB}\")\n",
        "print(f\"Best Model: {best_modelB}\")\n",
        "\n",
        "# evaluate best model on test set\n",
        "best_y_predB = best_modelB.predict(X_test_scaled)\n",
        "best_accuracyB = accuracy_score(y_test, best_y_predB)\n",
        "reportB = classification_report(y_test, best_y_predB)\n",
        "\n",
        "# print results\n",
        "print(f\"Best model accuracy: {best_accuracyB}\")\n",
        "print(f\"classification report:\\n {reportB}\")"
      ],
      "metadata": {
        "id": "hkdfQ7uTp0NQ"
      },
      "execution_count": null,
      "outputs": []
    },
    {
      "cell_type": "markdown",
      "source": [
        "#### set3"
      ],
      "metadata": {
        "id": "ZoA-uBBTJUAV"
      }
    },
    {
      "cell_type": "code",
      "source": [
        "random_search1.fit(X_train_cleaned, y_train_cleaned)\n",
        "\n",
        "# get the best params and best model\n",
        "best_paramsC = random_search1.best_params_\n",
        "best_modelC = random_search1.best_estimator_\n",
        "\n",
        "print(f\"Best Hyperparameters: {best_paramsC}\")\n",
        "print(f\"Best Model: {best_modelC}\")\n",
        "\n",
        "# evaluate best model on test set\n",
        "best_y_predC = best_modelC.predict(X_test_scaled)\n",
        "best_accuracyC = accuracy_score(y_test, best_y_predC)\n",
        "reportC = classification_report(y_test, best_y_predC)\n",
        "\n",
        "# print results\n",
        "print(f\"Best model accuracy: {best_accuracyC}\")\n",
        "print(f\"classification report:\\n {reportC}\")"
      ],
      "metadata": {
        "id": "UWSZpp8zFm3H"
      },
      "execution_count": null,
      "outputs": []
    },
    {
      "cell_type": "markdown",
      "source": [
        "#### set4"
      ],
      "metadata": {
        "id": "nmCQZqMsJWIX"
      }
    },
    {
      "cell_type": "code",
      "source": [
        "random_search1.fit(X_train_clean_resampled, y_train_clean_resampled)\n",
        "\n",
        "# get the best params and best model\n",
        "best_paramsD = random_search1.best_params_\n",
        "best_modelD = random_search1.best_estimator_\n",
        "\n",
        "print(f\"Best Hyperparameters: {best_paramsD}\")\n",
        "print(f\"Best Model: {best_modelD}\")\n",
        "\n",
        "# evaluate best model on test set\n",
        "best_y_predD = best_modelD.predict(X_test_scaled)\n",
        "best_accuracyD = accuracy_score(y_test, best_y_predD)\n",
        "reportD = classification_report(y_test, best_y_predD)\n",
        "\n",
        "# print results\n",
        "print(f\"Best model accuracy: {best_accuracyD}\")\n",
        "print(f\"classification report:\\n {reportD}\")"
      ],
      "metadata": {
        "id": "jy_XhqYwFomh"
      },
      "execution_count": null,
      "outputs": []
    },
    {
      "cell_type": "markdown",
      "source": [
        "### 2nd Parameter Distributions..."
      ],
      "metadata": {
        "id": "cUl94yUqJaZD"
      }
    },
    {
      "cell_type": "code",
      "source": [
        "# randomized search cv 2\n",
        "random_search2 = RandomizedSearchCV(estimator=MODEL,\n",
        "                                   param_distributions=param_dist2,\n",
        "                                   n_iter=100,  # Number of random combinations to try\n",
        "                                   scoring='f1',  # Use F1 score as the evaluation metric\n",
        "                                   cv=5,  # 5-fold cross-validation\n",
        "                                   verbose=1,\n",
        "                                   random_state=42,\n",
        "                                   n_jobs=-1)  # Use all available cores"
      ],
      "metadata": {
        "id": "8yyw3idJFq1_"
      },
      "execution_count": 32,
      "outputs": []
    },
    {
      "cell_type": "markdown",
      "source": [
        "#### set2A"
      ],
      "metadata": {
        "id": "h0NAE-RsJh85"
      }
    },
    {
      "cell_type": "code",
      "source": [
        "random_search2.fit(X_train_scaled, y_train)\n",
        "\n",
        "# get the best params and best model\n",
        "best_params2A = random_search1.best_params_\n",
        "best_model2A = random_search1.best_estimator_\n",
        "\n",
        "print(f\"Best Hyperparameters: {best_params2A}\")\n",
        "print(f\"Best Model: {best_model2A}\")\n",
        "\n",
        "# evaluate best model on test set\n",
        "best_y_pred2A = best_model2A.predict(X_test_scaled)\n",
        "best_accuracy2A = accuracy_score(y_test, best_y_pred2A)\n",
        "report2A = classification_report(y_test, best_y_pred2A)\n",
        "\n",
        "# print results\n",
        "print(f\"Best model accuracy: {best_accuracy2A}\")\n",
        "print(f\"classification report:\\n {report2A}\")"
      ],
      "metadata": {
        "id": "iTgFtRfbFtrJ"
      },
      "execution_count": null,
      "outputs": []
    },
    {
      "cell_type": "markdown",
      "source": [
        "#### set2B"
      ],
      "metadata": {
        "id": "ISj2U3NDJkaP"
      }
    },
    {
      "cell_type": "code",
      "source": [
        "random_search2.fit(X_train_resampled, y_train_resampled)\n",
        "\n",
        "# get the best params and best model\n",
        "best_params2B = random_search1.best_params_\n",
        "best_model2B = random_search1.best_estimator_\n",
        "\n",
        "print(f\"Best Hyperparameters: {best_params2B}\")\n",
        "print(f\"Best Model: {best_model2B}\")\n",
        "\n",
        "# evaluate best model on test set\n",
        "best_y_pred2B = best_model2B.predict(X_test_scaled)\n",
        "best_accuracy2B = accuracy_score(y_test, best_y_pred2B)\n",
        "report2B = classification_report(y_test, best_y_pred2B)\n",
        "\n",
        "# print results\n",
        "print(f\"Best model accuracy: {best_accuracy2B}\")\n",
        "print(f\"classification report:\\n {report2B}\")"
      ],
      "metadata": {
        "colab": {
          "base_uri": "https://localhost:8080/"
        },
        "id": "BYOc2c2yFvVI",
        "outputId": "c9dc5aa4-5c9d-4685-ead3-a8e211522a4b"
      },
      "execution_count": 33,
      "outputs": [
        {
          "output_type": "stream",
          "name": "stdout",
          "text": [
            "Fitting 5 folds for each of 100 candidates, totalling 500 fits\n",
            "Best Hyperparameters: {'colsample_bytree': 0.7001114464360124, 'gamma': 2.3885744544011382, 'learning_rate': 0.034867396508006264, 'max_depth': 3, 'n_estimators': 215, 'subsample': 0.718167915803278}\n",
            "Best Model: XGBClassifier(base_score=None, booster=None, callbacks=None,\n",
            "              colsample_bylevel=None, colsample_bynode=None,\n",
            "              colsample_bytree=0.7001114464360124, device=None,\n",
            "              early_stopping_rounds=None, enable_categorical=False,\n",
            "              eval_metric='logloss', feature_types=None,\n",
            "              gamma=2.3885744544011382, grow_policy=None, importance_type=None,\n",
            "              interaction_constraints=None, learning_rate=0.034867396508006264,\n",
            "              max_bin=None, max_cat_threshold=None, max_cat_to_onehot=None,\n",
            "              max_delta_step=None, max_depth=3, max_leaves=None,\n",
            "              min_child_weight=None, missing=nan, monotone_constraints=None,\n",
            "              multi_strategy=None, n_estimators=215, n_jobs=None,\n",
            "              num_parallel_tree=None, random_state=None, ...)\n",
            "Best model accuracy: 0.870375\n",
            "classification report:\n",
            "               precision    recall  f1-score   support\n",
            "\n",
            "           0       0.91      0.93      0.92     32585\n",
            "           1       0.66      0.61      0.64      7415\n",
            "\n",
            "    accuracy                           0.87     40000\n",
            "   macro avg       0.79      0.77      0.78     40000\n",
            "weighted avg       0.87      0.87      0.87     40000\n",
            "\n"
          ]
        }
      ]
    },
    {
      "cell_type": "markdown",
      "source": [
        "#### set2C"
      ],
      "metadata": {
        "id": "2_Ja4VnoJnu6"
      }
    },
    {
      "cell_type": "code",
      "source": [
        "random_search2.fit(X_train_cleaned, y_train_cleaned)\n",
        "\n",
        "# get the best params and best model\n",
        "best_params2C = random_search1.best_params_\n",
        "best_model2C = random_search1.best_estimator_\n",
        "\n",
        "print(f\"Best Hyperparameters: {best_params2C}\")\n",
        "print(f\"Best Model: {best_model2C}\")\n",
        "\n",
        "# evaluate best model on test set\n",
        "best_y_pred2C = best_model2C.predict(X_test_scaled)\n",
        "best_accuracy2C = accuracy_score(y_test, best_y_pred2C)\n",
        "report2C = classification_report(y_test, best_y_pred2C)\n",
        "\n",
        "# print results\n",
        "print(f\"Best model accuracy: {best_accuracy2C}\")\n",
        "print(f\"classification report:\\n {report2C}\")"
      ],
      "metadata": {
        "id": "8762OPqLFxGM"
      },
      "execution_count": null,
      "outputs": []
    },
    {
      "cell_type": "markdown",
      "source": [
        "#### set2D"
      ],
      "metadata": {
        "id": "KBflueHRJpqv"
      }
    },
    {
      "cell_type": "code",
      "source": [
        "random_search2.fit(X_train_clean_resampled, y_train_clean_resampled)\n",
        "\n",
        "# get the best params and best model\n",
        "best_params2D = random_search1.best_params_\n",
        "best_model2D = random_search1.best_estimator_\n",
        "\n",
        "print(f\"Best Hyperparameters: {best_params2D}\")\n",
        "print(f\"Best Model: {best_model2D}\")\n",
        "\n",
        "# evaluate best model on test set\n",
        "best_y_pred2D = best_model2D.predict(X_test_scaled)\n",
        "best_accuracy2D = accuracy_score(y_test, best_y_pred2D)\n",
        "report2D = classification_report(y_test, best_y_pred2D)\n",
        "\n",
        "# print results\n",
        "print(f\"Best model accuracy: {best_accuracy2D}\")\n",
        "print(f\"classification report:\\n {report2D}\")"
      ],
      "metadata": {
        "id": "WHPjsxyXFzIa"
      },
      "execution_count": null,
      "outputs": []
    }
  ]
}