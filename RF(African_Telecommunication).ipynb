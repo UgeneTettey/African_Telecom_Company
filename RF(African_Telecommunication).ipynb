{
  "nbformat": 4,
  "nbformat_minor": 0,
  "metadata": {
    "colab": {
      "provenance": []
    },
    "kernelspec": {
      "name": "python3",
      "display_name": "Python 3"
    },
    "language_info": {
      "name": "python"
    }
  },
  "cells": [
    {
      "cell_type": "code",
      "source": [
        "from google.colab import drive\n",
        "drive.mount('/content/drive')"
      ],
      "metadata": {
        "colab": {
          "base_uri": "https://localhost:8080/"
        },
        "id": "YHZO5cRA5bKR",
        "outputId": "0bda0523-ab95-4a7d-ad21-940f6ca9525c"
      },
      "execution_count": 29,
      "outputs": [
        {
          "output_type": "stream",
          "name": "stdout",
          "text": [
            "Drive already mounted at /content/drive; to attempt to forcibly remount, call drive.mount(\"/content/drive\", force_remount=True).\n"
          ]
        }
      ]
    },
    {
      "cell_type": "code",
      "execution_count": 30,
      "metadata": {
        "id": "bEiFZzl4XFPm"
      },
      "outputs": [],
      "source": [
        "import pandas as pd\n",
        "import matplotlib.pyplot as plt\n",
        "import numpy as np\n",
        "from sklearn.preprocessing import LabelEncoder, MinMaxScaler, RobustScaler\n",
        "from sklearn.impute import SimpleImputer\n",
        "from sklearn.model_selection import train_test_split\n",
        "from sklearn.neighbors import KNeighborsClassifier\n",
        "from sklearn.metrics import classification_report, confusion_matrix, accuracy_score,roc_auc_score\n",
        "from sklearn.svm import SVC\n",
        "import joblib\n",
        "from sklearn.ensemble import RandomForestClassifier\n",
        "from sklearn.tree import DecisionTreeClassifier\n",
        "from scipy.stats import zscore\n",
        "import seaborn as sns\n",
        "import pandas as pd\n",
        "import warnings\n",
        "warnings.filterwarnings('ignore')"
      ]
    },
    {
      "cell_type": "code",
      "source": [
        "file_path = '/content/drive/My Drive/Blossom Academy/ATC Data.csv'\n",
        "data = pd.read_csv(file_path, encoding='ISO-8859-1')"
      ],
      "metadata": {
        "id": "WYb6ooV8XmUe"
      },
      "execution_count": 31,
      "outputs": []
    },
    {
      "cell_type": "code",
      "source": [
        "data.head()"
      ],
      "metadata": {
        "colab": {
          "base_uri": "https://localhost:8080/",
          "height": 330
        },
        "id": "YXF5APoOXmHN",
        "outputId": "4141401a-bf03-4963-9832-82ee5ecbb938"
      },
      "execution_count": 32,
      "outputs": [
        {
          "output_type": "execute_result",
          "data": {
            "text/plain": [
              "                                    user_id       REGION        TENURE  \\\n",
              "0  dcf68cc2fb515ccad7d8b9b3bd80ee2a4b270063  SAINT-LOUIS  K > 24 month   \n",
              "1  71c44b5ba328db5c4192a80f7cf8f244d9350ed0          NaN  K > 24 month   \n",
              "2  ce46411b1526c94f20a383b8cb188f8d27f82a0a  TAMBACOUNDA  K > 24 month   \n",
              "3  f467cdb6669818373c26c2bad44e01ba66f97d21       FATICK  K > 24 month   \n",
              "4  ec45e1a1888a32b5dcce0954cfec20c6e037db31       FATICK  K > 24 month   \n",
              "\n",
              "   MONTANT  FREQUENCE_RECH  REVENUE  ARPU_SEGMENT  FREQUENCE  DATA_VOLUME  \\\n",
              "0  17000.0            32.0  18000.0        6000.0       34.0          NaN   \n",
              "1   4300.0            29.0   4427.0        1476.0       37.0       1764.0   \n",
              "2   1500.0             3.0   1500.0         500.0        3.0          NaN   \n",
              "3   1500.0             3.0   2497.0         832.0        4.0          0.0   \n",
              "4      NaN             NaN    498.0         166.0        3.0          1.0   \n",
              "\n",
              "   ON_NET  ORANGE  TIGO  ZONE1  ZONE2 MRG  REGULARITY  \\\n",
              "0    97.0   355.0   6.0    NaN    NaN  NO          62   \n",
              "1     8.0     3.0   0.0    NaN    2.0  NO          40   \n",
              "2    30.0    30.0   NaN    NaN    NaN  NO          32   \n",
              "3   159.0    45.0  19.0    NaN    NaN  NO          18   \n",
              "4     1.0     3.0   NaN    NaN    NaN  NO          50   \n",
              "\n",
              "                         TOP_PACK  FREQ_TOP_PACK  CHURN  \n",
              "0           All-net 500F=2000F;5d           35.0      0  \n",
              "1            Data: 100 F=40MB,24H           22.0      0  \n",
              "2           All-net 500F=2000F;5d            3.0      0  \n",
              "3  On net 200F=Unlimited _call24H            3.0      0  \n",
              "4                             NaN            NaN      0  "
            ],
            "text/html": [
              "\n",
              "  <div id=\"df-b36cc61a-8b87-4e87-be9b-48a58bf4f65f\" class=\"colab-df-container\">\n",
              "    <div>\n",
              "<style scoped>\n",
              "    .dataframe tbody tr th:only-of-type {\n",
              "        vertical-align: middle;\n",
              "    }\n",
              "\n",
              "    .dataframe tbody tr th {\n",
              "        vertical-align: top;\n",
              "    }\n",
              "\n",
              "    .dataframe thead th {\n",
              "        text-align: right;\n",
              "    }\n",
              "</style>\n",
              "<table border=\"1\" class=\"dataframe\">\n",
              "  <thead>\n",
              "    <tr style=\"text-align: right;\">\n",
              "      <th></th>\n",
              "      <th>user_id</th>\n",
              "      <th>REGION</th>\n",
              "      <th>TENURE</th>\n",
              "      <th>MONTANT</th>\n",
              "      <th>FREQUENCE_RECH</th>\n",
              "      <th>REVENUE</th>\n",
              "      <th>ARPU_SEGMENT</th>\n",
              "      <th>FREQUENCE</th>\n",
              "      <th>DATA_VOLUME</th>\n",
              "      <th>ON_NET</th>\n",
              "      <th>ORANGE</th>\n",
              "      <th>TIGO</th>\n",
              "      <th>ZONE1</th>\n",
              "      <th>ZONE2</th>\n",
              "      <th>MRG</th>\n",
              "      <th>REGULARITY</th>\n",
              "      <th>TOP_PACK</th>\n",
              "      <th>FREQ_TOP_PACK</th>\n",
              "      <th>CHURN</th>\n",
              "    </tr>\n",
              "  </thead>\n",
              "  <tbody>\n",
              "    <tr>\n",
              "      <th>0</th>\n",
              "      <td>dcf68cc2fb515ccad7d8b9b3bd80ee2a4b270063</td>\n",
              "      <td>SAINT-LOUIS</td>\n",
              "      <td>K &gt; 24 month</td>\n",
              "      <td>17000.0</td>\n",
              "      <td>32.0</td>\n",
              "      <td>18000.0</td>\n",
              "      <td>6000.0</td>\n",
              "      <td>34.0</td>\n",
              "      <td>NaN</td>\n",
              "      <td>97.0</td>\n",
              "      <td>355.0</td>\n",
              "      <td>6.0</td>\n",
              "      <td>NaN</td>\n",
              "      <td>NaN</td>\n",
              "      <td>NO</td>\n",
              "      <td>62</td>\n",
              "      <td>All-net 500F=2000F;5d</td>\n",
              "      <td>35.0</td>\n",
              "      <td>0</td>\n",
              "    </tr>\n",
              "    <tr>\n",
              "      <th>1</th>\n",
              "      <td>71c44b5ba328db5c4192a80f7cf8f244d9350ed0</td>\n",
              "      <td>NaN</td>\n",
              "      <td>K &gt; 24 month</td>\n",
              "      <td>4300.0</td>\n",
              "      <td>29.0</td>\n",
              "      <td>4427.0</td>\n",
              "      <td>1476.0</td>\n",
              "      <td>37.0</td>\n",
              "      <td>1764.0</td>\n",
              "      <td>8.0</td>\n",
              "      <td>3.0</td>\n",
              "      <td>0.0</td>\n",
              "      <td>NaN</td>\n",
              "      <td>2.0</td>\n",
              "      <td>NO</td>\n",
              "      <td>40</td>\n",
              "      <td>Data: 100 F=40MB,24H</td>\n",
              "      <td>22.0</td>\n",
              "      <td>0</td>\n",
              "    </tr>\n",
              "    <tr>\n",
              "      <th>2</th>\n",
              "      <td>ce46411b1526c94f20a383b8cb188f8d27f82a0a</td>\n",
              "      <td>TAMBACOUNDA</td>\n",
              "      <td>K &gt; 24 month</td>\n",
              "      <td>1500.0</td>\n",
              "      <td>3.0</td>\n",
              "      <td>1500.0</td>\n",
              "      <td>500.0</td>\n",
              "      <td>3.0</td>\n",
              "      <td>NaN</td>\n",
              "      <td>30.0</td>\n",
              "      <td>30.0</td>\n",
              "      <td>NaN</td>\n",
              "      <td>NaN</td>\n",
              "      <td>NaN</td>\n",
              "      <td>NO</td>\n",
              "      <td>32</td>\n",
              "      <td>All-net 500F=2000F;5d</td>\n",
              "      <td>3.0</td>\n",
              "      <td>0</td>\n",
              "    </tr>\n",
              "    <tr>\n",
              "      <th>3</th>\n",
              "      <td>f467cdb6669818373c26c2bad44e01ba66f97d21</td>\n",
              "      <td>FATICK</td>\n",
              "      <td>K &gt; 24 month</td>\n",
              "      <td>1500.0</td>\n",
              "      <td>3.0</td>\n",
              "      <td>2497.0</td>\n",
              "      <td>832.0</td>\n",
              "      <td>4.0</td>\n",
              "      <td>0.0</td>\n",
              "      <td>159.0</td>\n",
              "      <td>45.0</td>\n",
              "      <td>19.0</td>\n",
              "      <td>NaN</td>\n",
              "      <td>NaN</td>\n",
              "      <td>NO</td>\n",
              "      <td>18</td>\n",
              "      <td>On net 200F=Unlimited _call24H</td>\n",
              "      <td>3.0</td>\n",
              "      <td>0</td>\n",
              "    </tr>\n",
              "    <tr>\n",
              "      <th>4</th>\n",
              "      <td>ec45e1a1888a32b5dcce0954cfec20c6e037db31</td>\n",
              "      <td>FATICK</td>\n",
              "      <td>K &gt; 24 month</td>\n",
              "      <td>NaN</td>\n",
              "      <td>NaN</td>\n",
              "      <td>498.0</td>\n",
              "      <td>166.0</td>\n",
              "      <td>3.0</td>\n",
              "      <td>1.0</td>\n",
              "      <td>1.0</td>\n",
              "      <td>3.0</td>\n",
              "      <td>NaN</td>\n",
              "      <td>NaN</td>\n",
              "      <td>NaN</td>\n",
              "      <td>NO</td>\n",
              "      <td>50</td>\n",
              "      <td>NaN</td>\n",
              "      <td>NaN</td>\n",
              "      <td>0</td>\n",
              "    </tr>\n",
              "  </tbody>\n",
              "</table>\n",
              "</div>\n",
              "    <div class=\"colab-df-buttons\">\n",
              "\n",
              "  <div class=\"colab-df-container\">\n",
              "    <button class=\"colab-df-convert\" onclick=\"convertToInteractive('df-b36cc61a-8b87-4e87-be9b-48a58bf4f65f')\"\n",
              "            title=\"Convert this dataframe to an interactive table.\"\n",
              "            style=\"display:none;\">\n",
              "\n",
              "  <svg xmlns=\"http://www.w3.org/2000/svg\" height=\"24px\" viewBox=\"0 -960 960 960\">\n",
              "    <path d=\"M120-120v-720h720v720H120Zm60-500h600v-160H180v160Zm220 220h160v-160H400v160Zm0 220h160v-160H400v160ZM180-400h160v-160H180v160Zm440 0h160v-160H620v160ZM180-180h160v-160H180v160Zm440 0h160v-160H620v160Z\"/>\n",
              "  </svg>\n",
              "    </button>\n",
              "\n",
              "  <style>\n",
              "    .colab-df-container {\n",
              "      display:flex;\n",
              "      gap: 12px;\n",
              "    }\n",
              "\n",
              "    .colab-df-convert {\n",
              "      background-color: #E8F0FE;\n",
              "      border: none;\n",
              "      border-radius: 50%;\n",
              "      cursor: pointer;\n",
              "      display: none;\n",
              "      fill: #1967D2;\n",
              "      height: 32px;\n",
              "      padding: 0 0 0 0;\n",
              "      width: 32px;\n",
              "    }\n",
              "\n",
              "    .colab-df-convert:hover {\n",
              "      background-color: #E2EBFA;\n",
              "      box-shadow: 0px 1px 2px rgba(60, 64, 67, 0.3), 0px 1px 3px 1px rgba(60, 64, 67, 0.15);\n",
              "      fill: #174EA6;\n",
              "    }\n",
              "\n",
              "    .colab-df-buttons div {\n",
              "      margin-bottom: 4px;\n",
              "    }\n",
              "\n",
              "    [theme=dark] .colab-df-convert {\n",
              "      background-color: #3B4455;\n",
              "      fill: #D2E3FC;\n",
              "    }\n",
              "\n",
              "    [theme=dark] .colab-df-convert:hover {\n",
              "      background-color: #434B5C;\n",
              "      box-shadow: 0px 1px 3px 1px rgba(0, 0, 0, 0.15);\n",
              "      filter: drop-shadow(0px 1px 2px rgba(0, 0, 0, 0.3));\n",
              "      fill: #FFFFFF;\n",
              "    }\n",
              "  </style>\n",
              "\n",
              "    <script>\n",
              "      const buttonEl =\n",
              "        document.querySelector('#df-b36cc61a-8b87-4e87-be9b-48a58bf4f65f button.colab-df-convert');\n",
              "      buttonEl.style.display =\n",
              "        google.colab.kernel.accessAllowed ? 'block' : 'none';\n",
              "\n",
              "      async function convertToInteractive(key) {\n",
              "        const element = document.querySelector('#df-b36cc61a-8b87-4e87-be9b-48a58bf4f65f');\n",
              "        const dataTable =\n",
              "          await google.colab.kernel.invokeFunction('convertToInteractive',\n",
              "                                                    [key], {});\n",
              "        if (!dataTable) return;\n",
              "\n",
              "        const docLinkHtml = 'Like what you see? Visit the ' +\n",
              "          '<a target=\"_blank\" href=https://colab.research.google.com/notebooks/data_table.ipynb>data table notebook</a>'\n",
              "          + ' to learn more about interactive tables.';\n",
              "        element.innerHTML = '';\n",
              "        dataTable['output_type'] = 'display_data';\n",
              "        await google.colab.output.renderOutput(dataTable, element);\n",
              "        const docLink = document.createElement('div');\n",
              "        docLink.innerHTML = docLinkHtml;\n",
              "        element.appendChild(docLink);\n",
              "      }\n",
              "    </script>\n",
              "  </div>\n",
              "\n",
              "\n",
              "<div id=\"df-ed2e5206-75fd-4317-9111-24a022d1e6f5\">\n",
              "  <button class=\"colab-df-quickchart\" onclick=\"quickchart('df-ed2e5206-75fd-4317-9111-24a022d1e6f5')\"\n",
              "            title=\"Suggest charts\"\n",
              "            style=\"display:none;\">\n",
              "\n",
              "<svg xmlns=\"http://www.w3.org/2000/svg\" height=\"24px\"viewBox=\"0 0 24 24\"\n",
              "     width=\"24px\">\n",
              "    <g>\n",
              "        <path d=\"M19 3H5c-1.1 0-2 .9-2 2v14c0 1.1.9 2 2 2h14c1.1 0 2-.9 2-2V5c0-1.1-.9-2-2-2zM9 17H7v-7h2v7zm4 0h-2V7h2v10zm4 0h-2v-4h2v4z\"/>\n",
              "    </g>\n",
              "</svg>\n",
              "  </button>\n",
              "\n",
              "<style>\n",
              "  .colab-df-quickchart {\n",
              "      --bg-color: #E8F0FE;\n",
              "      --fill-color: #1967D2;\n",
              "      --hover-bg-color: #E2EBFA;\n",
              "      --hover-fill-color: #174EA6;\n",
              "      --disabled-fill-color: #AAA;\n",
              "      --disabled-bg-color: #DDD;\n",
              "  }\n",
              "\n",
              "  [theme=dark] .colab-df-quickchart {\n",
              "      --bg-color: #3B4455;\n",
              "      --fill-color: #D2E3FC;\n",
              "      --hover-bg-color: #434B5C;\n",
              "      --hover-fill-color: #FFFFFF;\n",
              "      --disabled-bg-color: #3B4455;\n",
              "      --disabled-fill-color: #666;\n",
              "  }\n",
              "\n",
              "  .colab-df-quickchart {\n",
              "    background-color: var(--bg-color);\n",
              "    border: none;\n",
              "    border-radius: 50%;\n",
              "    cursor: pointer;\n",
              "    display: none;\n",
              "    fill: var(--fill-color);\n",
              "    height: 32px;\n",
              "    padding: 0;\n",
              "    width: 32px;\n",
              "  }\n",
              "\n",
              "  .colab-df-quickchart:hover {\n",
              "    background-color: var(--hover-bg-color);\n",
              "    box-shadow: 0 1px 2px rgba(60, 64, 67, 0.3), 0 1px 3px 1px rgba(60, 64, 67, 0.15);\n",
              "    fill: var(--button-hover-fill-color);\n",
              "  }\n",
              "\n",
              "  .colab-df-quickchart-complete:disabled,\n",
              "  .colab-df-quickchart-complete:disabled:hover {\n",
              "    background-color: var(--disabled-bg-color);\n",
              "    fill: var(--disabled-fill-color);\n",
              "    box-shadow: none;\n",
              "  }\n",
              "\n",
              "  .colab-df-spinner {\n",
              "    border: 2px solid var(--fill-color);\n",
              "    border-color: transparent;\n",
              "    border-bottom-color: var(--fill-color);\n",
              "    animation:\n",
              "      spin 1s steps(1) infinite;\n",
              "  }\n",
              "\n",
              "  @keyframes spin {\n",
              "    0% {\n",
              "      border-color: transparent;\n",
              "      border-bottom-color: var(--fill-color);\n",
              "      border-left-color: var(--fill-color);\n",
              "    }\n",
              "    20% {\n",
              "      border-color: transparent;\n",
              "      border-left-color: var(--fill-color);\n",
              "      border-top-color: var(--fill-color);\n",
              "    }\n",
              "    30% {\n",
              "      border-color: transparent;\n",
              "      border-left-color: var(--fill-color);\n",
              "      border-top-color: var(--fill-color);\n",
              "      border-right-color: var(--fill-color);\n",
              "    }\n",
              "    40% {\n",
              "      border-color: transparent;\n",
              "      border-right-color: var(--fill-color);\n",
              "      border-top-color: var(--fill-color);\n",
              "    }\n",
              "    60% {\n",
              "      border-color: transparent;\n",
              "      border-right-color: var(--fill-color);\n",
              "    }\n",
              "    80% {\n",
              "      border-color: transparent;\n",
              "      border-right-color: var(--fill-color);\n",
              "      border-bottom-color: var(--fill-color);\n",
              "    }\n",
              "    90% {\n",
              "      border-color: transparent;\n",
              "      border-bottom-color: var(--fill-color);\n",
              "    }\n",
              "  }\n",
              "</style>\n",
              "\n",
              "  <script>\n",
              "    async function quickchart(key) {\n",
              "      const quickchartButtonEl =\n",
              "        document.querySelector('#' + key + ' button');\n",
              "      quickchartButtonEl.disabled = true;  // To prevent multiple clicks.\n",
              "      quickchartButtonEl.classList.add('colab-df-spinner');\n",
              "      try {\n",
              "        const charts = await google.colab.kernel.invokeFunction(\n",
              "            'suggestCharts', [key], {});\n",
              "      } catch (error) {\n",
              "        console.error('Error during call to suggestCharts:', error);\n",
              "      }\n",
              "      quickchartButtonEl.classList.remove('colab-df-spinner');\n",
              "      quickchartButtonEl.classList.add('colab-df-quickchart-complete');\n",
              "    }\n",
              "    (() => {\n",
              "      let quickchartButtonEl =\n",
              "        document.querySelector('#df-ed2e5206-75fd-4317-9111-24a022d1e6f5 button');\n",
              "      quickchartButtonEl.style.display =\n",
              "        google.colab.kernel.accessAllowed ? 'block' : 'none';\n",
              "    })();\n",
              "  </script>\n",
              "</div>\n",
              "\n",
              "    </div>\n",
              "  </div>\n"
            ],
            "application/vnd.google.colaboratory.intrinsic+json": {
              "type": "dataframe",
              "variable_name": "data"
            }
          },
          "metadata": {},
          "execution_count": 32
        }
      ]
    },
    {
      "cell_type": "code",
      "source": [
        "data.info()"
      ],
      "metadata": {
        "colab": {
          "base_uri": "https://localhost:8080/"
        },
        "id": "JyKDOXotXlvw",
        "outputId": "1b6552e5-1eb2-44f7-9b00-132ad9a210ac"
      },
      "execution_count": 33,
      "outputs": [
        {
          "output_type": "stream",
          "name": "stdout",
          "text": [
            "<class 'pandas.core.frame.DataFrame'>\n",
            "RangeIndex: 400000 entries, 0 to 399999\n",
            "Data columns (total 19 columns):\n",
            " #   Column          Non-Null Count   Dtype  \n",
            "---  ------          --------------   -----  \n",
            " 0   user_id         400000 non-null  object \n",
            " 1   REGION          242480 non-null  object \n",
            " 2   TENURE          400000 non-null  object \n",
            " 3   MONTANT         259723 non-null  float64\n",
            " 4   FREQUENCE_RECH  259723 non-null  float64\n",
            " 5   REVENUE         265337 non-null  float64\n",
            " 6   ARPU_SEGMENT    265337 non-null  float64\n",
            " 7   FREQUENCE       265337 non-null  float64\n",
            " 8   DATA_VOLUME     203146 non-null  float64\n",
            " 9   ON_NET          254181 non-null  float64\n",
            " 10  ORANGE          233683 non-null  float64\n",
            " 11  TIGO            160614 non-null  float64\n",
            " 12  ZONE1           31690 non-null   float64\n",
            " 13  ZONE2           25513 non-null   float64\n",
            " 14  MRG             400000 non-null  object \n",
            " 15  REGULARITY      400000 non-null  int64  \n",
            " 16  TOP_PACK        232671 non-null  object \n",
            " 17  FREQ_TOP_PACK   232671 non-null  float64\n",
            " 18  CHURN           400000 non-null  int64  \n",
            "dtypes: float64(12), int64(2), object(5)\n",
            "memory usage: 58.0+ MB\n"
          ]
        }
      ]
    },
    {
      "cell_type": "code",
      "source": [
        "pd.unique(data['REGION'])"
      ],
      "metadata": {
        "colab": {
          "base_uri": "https://localhost:8080/"
        },
        "id": "rk1JgTvG9Ibo",
        "outputId": "64eb5c57-8ed9-45f7-fcaf-362049c00cef"
      },
      "execution_count": 34,
      "outputs": [
        {
          "output_type": "execute_result",
          "data": {
            "text/plain": [
              "array(['SAINT-LOUIS', nan, 'TAMBACOUNDA', 'FATICK', 'THIES', 'LOUGA',\n",
              "       'DAKAR', 'KAFFRINE', 'DIOURBEL', 'KOLDA', 'MATAM', 'SEDHIOU',\n",
              "       'KAOLACK', 'ZIGUINCHOR', 'KEDOUGOU'], dtype=object)"
            ]
          },
          "metadata": {},
          "execution_count": 34
        }
      ]
    },
    {
      "cell_type": "code",
      "source": [
        "pd.unique(data['TENURE'])"
      ],
      "metadata": {
        "colab": {
          "base_uri": "https://localhost:8080/"
        },
        "id": "oXDAaa2DESXH",
        "outputId": "88015886-d756-44eb-9804-fba677a43b0d"
      },
      "execution_count": 35,
      "outputs": [
        {
          "output_type": "execute_result",
          "data": {
            "text/plain": [
              "array(['K > 24 month', 'H 15-18 month', 'G 12-15 month', 'J 21-24 month',\n",
              "       'I 18-21 month', 'E 6-9 month', 'F 9-12 month', 'D 3-6 month'],\n",
              "      dtype=object)"
            ]
          },
          "metadata": {},
          "execution_count": 35
        }
      ]
    },
    {
      "cell_type": "code",
      "source": [
        "pd.unique(data['MRG'])"
      ],
      "metadata": {
        "colab": {
          "base_uri": "https://localhost:8080/"
        },
        "id": "bDr0D6PyEf-1",
        "outputId": "77313881-e6bb-4550-d0e7-d4413c934e73"
      },
      "execution_count": 36,
      "outputs": [
        {
          "output_type": "execute_result",
          "data": {
            "text/plain": [
              "array(['NO'], dtype=object)"
            ]
          },
          "metadata": {},
          "execution_count": 36
        }
      ]
    },
    {
      "cell_type": "code",
      "source": [
        "pd.unique(data['TOP_PACK'])"
      ],
      "metadata": {
        "colab": {
          "base_uri": "https://localhost:8080/"
        },
        "id": "kfucW3avEwF4",
        "outputId": "46db05ab-9636-498f-a1f4-eab8ebfc6056"
      },
      "execution_count": 37,
      "outputs": [
        {
          "output_type": "execute_result",
          "data": {
            "text/plain": [
              "array(['All-net 500F=2000F;5d', 'Data: 100 F=40MB,24H',\n",
              "       'On net 200F=Unlimited _call24H', nan, 'Data:490F=1GB,7d',\n",
              "       'Data:1000F=5GB,7d', 'VAS(IVR_Radio_Daily)',\n",
              "       'Data:200F=Unlimited,24H', 'Jokko_Daily',\n",
              "       'Mixt 250F=Unlimited_call24H', 'Data: 200 F=100MB,24H',\n",
              "       'MIXT:500F= 2500F on net _2500F off net;2d', 'Data:1000F=2GB,30d',\n",
              "       'IVR Echat_Daily_50F', 'On-net 1000F=10MilF;10d',\n",
              "       'All-net 600F= 3000F ;5d', 'Twter_U2opia_Daily',\n",
              "       'MIXT: 200mnoff net _unl on net _5Go;30d', 'On-net 500F_FNF;3d',\n",
              "       'Twter_U2opia_Weekly', 'All-net 500F =2000F_AllNet_Unlimited',\n",
              "       'Yewouleen_PKG', 'On-net 500=4000,10d', 'On-net 200F=60mn;1d',\n",
              "       'Data:3000F=10GB,30d', 'Incoming_Bonus_woma',\n",
              "       'All-net 1000=5000;5d', 'Data:500F=2GB,24H', 'Data:300F=100MB,2d',\n",
              "       'MIXT: 390F=04HOn-net_400SMS_400 Mo;4h\\t', 'Data:50F=30MB_24H',\n",
              "       'All-net 1000F=(3000F On+3000F Off);5d',\n",
              "       'All-net 500F=1250F_AllNet_1250_Onnet;48h',\n",
              "       'Data:150F=SPPackage1,24H', 'CVM_on-net bundle 500=5000',\n",
              "       'Data: 200F=1GB,24H', '200=Unlimited1Day', 'MROMO_TIMWES_OneDAY',\n",
              "       '200F=10mnOnNetValid1H', 'On net 200F= 3000F_10Mo ;24H',\n",
              "       'All-net 300=600;2d', 'On-net 300F=1800F;3d',\n",
              "       'MIXT: 590F=02H_On-net_200SMS_200 Mo;24h\\t\\t',\n",
              "       'YMGX 100=1 hour FNF, 24H/1 month', '500=Unlimited3Day',\n",
              "       'Data:DailyCycle_Pilot_1.5GB', 'Data:1500F=3GB,30D',\n",
              "       'New_YAKALMA_4_ALL', 'Twter_U2opia_Monthly', 'Jokko_promo',\n",
              "       'Pilot_Youth4_490', 'SUPERMAGIK_5000',\n",
              "       'On-net 2000f_One_Month_100H; 30d', 'Jokko_Monthly',\n",
              "       'Jokko_Weekly', 'Facebook_MIX_2D', 'Data: 490F=Night,00H-08H',\n",
              "       'Internat: 1000F_Zone_1;24H\\t\\t', 'FNF2 ( JAPPANTE)',\n",
              "       'All-net 500F=4000F ; 5d', 'WIFI_Family_2MBPS',\n",
              "       'Data:700F=SPPackage1,7d', 'Data:700F=1.5GB,7d',\n",
              "       'Data:30Go_V 30_Days', 'DataPack_Incoming',\n",
              "       'MIXT: 500F=75(SMS, ONNET, Mo)_1000FAllNet;24h\\t\\t',\n",
              "       'EVC_500=2000F',\n",
              "       'MIXT:1000F=4250 Off net _ 4250F On net _100Mo; 5d',\n",
              "       'MROMO_TIMWES_RENEW', 'All-net 5000= 20000off+20000on;30d',\n",
              "       'Pilot_Youth1_290', 'Data:1500F=SPPackage1,30d',\n",
              "       'MIXT:10000F=10hAllnet_3Go_1h_Zone3;30d\\t\\t', 'EVC_Jokko_Weekly',\n",
              "       'MIXT: 5000F=80Konnet_20Koffnet_250Mo;30d\\t\\t',\n",
              "       'WIFI_ Family _4MBPS', 'Internat: 1000F_Zone_3;24h\\t\\t',\n",
              "       'Mixt : 500F=2500Fonnet_2500Foffnet ;5d', 'FIFA_TS_daily',\n",
              "       'CVM_100F_unlimited', 'WIFI_ Family _10MBPS', '301765007',\n",
              "       'SUPERMAGIK_1000', 'TelmunCRBT_daily', 'pilot_offer6', '305155009',\n",
              "       'VAS(IVR_Radio_Monthly)', 'Staff_CPE_Rent',\n",
              "       'IVR Echat_Weekly_200F', '1000=Unlimited7Day', 'FNF_Youth_ESN',\n",
              "       'EVC_100Mo', 'Data:New-GPRS_PKG_1500F', 'Data_EVC_2Go24H',\n",
              "       'CVM_100f=200 MB', 'Internat: 2000F_Zone_2;24H\\t\\t',\n",
              "       'MIXT: 4900F= 10H on net_1,5Go ;30d', 'VAS(IVR_Radio_Weekly)',\n",
              "       'pilot_offer5', 'CVM_200f=400MB', 'APANews_weekly', 'CVM_500f=2GB',\n",
              "       'CVM_On-net 1300f=12500', 'pack_chinguitel_24h',\n",
              "       'NEW_CLIR_TEMPALLOWED_LIBERTE_MOBILE',\n",
              "       'NEW_CLIR_PERMANENT_LIBERTE_MOBILE', 'GPRS_3000Equal10GPORTAL',\n",
              "       'APANews_monthly', '200=unlimited pilot auto',\n",
              "       'IVR Echat_Monthly_500F', 'CVM_On-net 400f=2200F',\n",
              "       'EVC_MEGA10000F'], dtype=object)"
            ]
          },
          "metadata": {},
          "execution_count": 37
        }
      ]
    },
    {
      "cell_type": "code",
      "source": [
        "# is null?\n",
        "print(data.isnull().sum())"
      ],
      "metadata": {
        "colab": {
          "base_uri": "https://localhost:8080/"
        },
        "id": "SIAyHWrPE9gH",
        "outputId": "3d1c90c7-da73-48c2-900b-5e519af680e9"
      },
      "execution_count": 38,
      "outputs": [
        {
          "output_type": "stream",
          "name": "stdout",
          "text": [
            "user_id                0\n",
            "REGION            157520\n",
            "TENURE                 0\n",
            "MONTANT           140277\n",
            "FREQUENCE_RECH    140277\n",
            "REVENUE           134663\n",
            "ARPU_SEGMENT      134663\n",
            "FREQUENCE         134663\n",
            "DATA_VOLUME       196854\n",
            "ON_NET            145819\n",
            "ORANGE            166317\n",
            "TIGO              239386\n",
            "ZONE1             368310\n",
            "ZONE2             374487\n",
            "MRG                    0\n",
            "REGULARITY             0\n",
            "TOP_PACK          167329\n",
            "FREQ_TOP_PACK     167329\n",
            "CHURN                  0\n",
            "dtype: int64\n"
          ]
        }
      ]
    },
    {
      "cell_type": "code",
      "source": [
        "data.drop(columns=['TIGO', 'ZONE1', \"ZONE2\", 'MRG'], inplace=True)"
      ],
      "metadata": {
        "id": "GswejJwJGPqH"
      },
      "execution_count": 39,
      "outputs": []
    },
    {
      "cell_type": "code",
      "source": [
        "data.info()"
      ],
      "metadata": {
        "colab": {
          "base_uri": "https://localhost:8080/"
        },
        "id": "q69yIOv5L-NB",
        "outputId": "4921d3cb-2273-44a2-a4cd-ef2a350e6fb1"
      },
      "execution_count": 40,
      "outputs": [
        {
          "output_type": "stream",
          "name": "stdout",
          "text": [
            "<class 'pandas.core.frame.DataFrame'>\n",
            "RangeIndex: 400000 entries, 0 to 399999\n",
            "Data columns (total 15 columns):\n",
            " #   Column          Non-Null Count   Dtype  \n",
            "---  ------          --------------   -----  \n",
            " 0   user_id         400000 non-null  object \n",
            " 1   REGION          242480 non-null  object \n",
            " 2   TENURE          400000 non-null  object \n",
            " 3   MONTANT         259723 non-null  float64\n",
            " 4   FREQUENCE_RECH  259723 non-null  float64\n",
            " 5   REVENUE         265337 non-null  float64\n",
            " 6   ARPU_SEGMENT    265337 non-null  float64\n",
            " 7   FREQUENCE       265337 non-null  float64\n",
            " 8   DATA_VOLUME     203146 non-null  float64\n",
            " 9   ON_NET          254181 non-null  float64\n",
            " 10  ORANGE          233683 non-null  float64\n",
            " 11  REGULARITY      400000 non-null  int64  \n",
            " 12  TOP_PACK        232671 non-null  object \n",
            " 13  FREQ_TOP_PACK   232671 non-null  float64\n",
            " 14  CHURN           400000 non-null  int64  \n",
            "dtypes: float64(9), int64(2), object(4)\n",
            "memory usage: 45.8+ MB\n"
          ]
        }
      ]
    },
    {
      "cell_type": "code",
      "source": [
        "data['REGULARITY'] = data['REGULARITY'].astype('float64')\n",
        "print(data.dtypes)"
      ],
      "metadata": {
        "colab": {
          "base_uri": "https://localhost:8080/"
        },
        "id": "mqbduQFzm14m",
        "outputId": "37553d73-46d7-4ef3-dfbf-4d8e902afd14"
      },
      "execution_count": 41,
      "outputs": [
        {
          "output_type": "stream",
          "name": "stdout",
          "text": [
            "user_id            object\n",
            "REGION             object\n",
            "TENURE             object\n",
            "MONTANT           float64\n",
            "FREQUENCE_RECH    float64\n",
            "REVENUE           float64\n",
            "ARPU_SEGMENT      float64\n",
            "FREQUENCE         float64\n",
            "DATA_VOLUME       float64\n",
            "ON_NET            float64\n",
            "ORANGE            float64\n",
            "REGULARITY        float64\n",
            "TOP_PACK           object\n",
            "FREQ_TOP_PACK     float64\n",
            "CHURN               int64\n",
            "dtype: object\n"
          ]
        }
      ]
    },
    {
      "cell_type": "code",
      "source": [
        "numerical_columns = data.select_dtypes(include=['float64']).columns\n",
        "numerical_impute = SimpleImputer(strategy='median')\n",
        "for col in numerical_columns:\n",
        "  data[col] = numerical_impute.fit_transform(data[[col]])"
      ],
      "metadata": {
        "id": "ynVNtBs0Q9EI"
      },
      "execution_count": 42,
      "outputs": []
    },
    {
      "cell_type": "code",
      "source": [
        "categorical_columns = data.select_dtypes(include=['object']).columns\n",
        "for col in categorical_columns:\n",
        "  data[col] = data[col].fillna(data[col].mode()[0])"
      ],
      "metadata": {
        "id": "21h5syV6SBRg"
      },
      "execution_count": 43,
      "outputs": []
    },
    {
      "cell_type": "code",
      "source": [
        "data.info()"
      ],
      "metadata": {
        "colab": {
          "base_uri": "https://localhost:8080/"
        },
        "id": "RsXblT-LV6gr",
        "outputId": "4d44ce6d-b538-439f-c8e2-0327958f3603"
      },
      "execution_count": 44,
      "outputs": [
        {
          "output_type": "stream",
          "name": "stdout",
          "text": [
            "<class 'pandas.core.frame.DataFrame'>\n",
            "RangeIndex: 400000 entries, 0 to 399999\n",
            "Data columns (total 15 columns):\n",
            " #   Column          Non-Null Count   Dtype  \n",
            "---  ------          --------------   -----  \n",
            " 0   user_id         400000 non-null  object \n",
            " 1   REGION          400000 non-null  object \n",
            " 2   TENURE          400000 non-null  object \n",
            " 3   MONTANT         400000 non-null  float64\n",
            " 4   FREQUENCE_RECH  400000 non-null  float64\n",
            " 5   REVENUE         400000 non-null  float64\n",
            " 6   ARPU_SEGMENT    400000 non-null  float64\n",
            " 7   FREQUENCE       400000 non-null  float64\n",
            " 8   DATA_VOLUME     400000 non-null  float64\n",
            " 9   ON_NET          400000 non-null  float64\n",
            " 10  ORANGE          400000 non-null  float64\n",
            " 11  REGULARITY      400000 non-null  float64\n",
            " 12  TOP_PACK        400000 non-null  object \n",
            " 13  FREQ_TOP_PACK   400000 non-null  float64\n",
            " 14  CHURN           400000 non-null  int64  \n",
            "dtypes: float64(10), int64(1), object(4)\n",
            "memory usage: 45.8+ MB\n"
          ]
        }
      ]
    },
    {
      "cell_type": "code",
      "source": [
        "# detect columns with outliers\n",
        "numerical_columns = data.select_dtypes(include=['float64']).columns\n",
        "outliers = {}\n",
        "for col in numerical_columns:\n",
        "    z_scores = zscore(data[col])\n",
        "    outliers[col] = data[abs(z_scores) > 3]\n",
        "print(outliers.keys())"
      ],
      "metadata": {
        "colab": {
          "base_uri": "https://localhost:8080/"
        },
        "id": "VyYYZamLaWf5",
        "outputId": "23ec809a-c068-478a-e3f5-c0f560e11a76"
      },
      "execution_count": 45,
      "outputs": [
        {
          "output_type": "stream",
          "name": "stdout",
          "text": [
            "dict_keys(['MONTANT', 'FREQUENCE_RECH', 'REVENUE', 'ARPU_SEGMENT', 'FREQUENCE', 'DATA_VOLUME', 'ON_NET', 'ORANGE', 'REGULARITY', 'FREQ_TOP_PACK'])\n"
          ]
        }
      ]
    },
    {
      "cell_type": "code",
      "source": [
        "scaler = RobustScaler()\n",
        "for col in numerical_columns:\n",
        "  data[col] = scaler.fit_transform(data[[col]])"
      ],
      "metadata": {
        "id": "rL4fKqXgWQOQ"
      },
      "execution_count": 46,
      "outputs": []
    },
    {
      "cell_type": "code",
      "source": [
        "label = LabelEncoder()\n",
        "for col in categorical_columns:\n",
        "  data[col] = label.fit_transform(data[col])"
      ],
      "metadata": {
        "id": "G8URTAfgTzJp"
      },
      "execution_count": 47,
      "outputs": []
    },
    {
      "cell_type": "code",
      "source": [
        "print(data.columns)"
      ],
      "metadata": {
        "id": "qtcPeDKml13V",
        "outputId": "1006362d-e192-4299-b886-fb427abe47f6",
        "colab": {
          "base_uri": "https://localhost:8080/"
        }
      },
      "execution_count": 48,
      "outputs": [
        {
          "output_type": "stream",
          "name": "stdout",
          "text": [
            "Index(['user_id', 'REGION', 'TENURE', 'MONTANT', 'FREQUENCE_RECH', 'REVENUE',\n",
            "       'ARPU_SEGMENT', 'FREQUENCE', 'DATA_VOLUME', 'ON_NET', 'ORANGE',\n",
            "       'REGULARITY', 'TOP_PACK', 'FREQ_TOP_PACK', 'CHURN'],\n",
            "      dtype='object')\n"
          ]
        }
      ]
    },
    {
      "cell_type": "code",
      "source": [
        "# Define features and target variable\n",
        "X = data.drop(columns=['user_id', 'CHURN'])\n",
        "y = data[['CHURN']]\n"
      ],
      "metadata": {
        "id": "7mLgKuJfWT8G"
      },
      "execution_count": 49,
      "outputs": []
    },
    {
      "cell_type": "code",
      "source": [
        "# Split the data into training and testing sets\n",
        "X_train, X_test, y_train, y_test = train_test_split(X, y, test_size=0.2, random_state=42)"
      ],
      "metadata": {
        "id": "8d9HKsqyJC9a"
      },
      "execution_count": 50,
      "outputs": []
    },
    {
      "cell_type": "code",
      "source": [
        "# Build and train the Decision Tree model\n",
        "model = RandomForestClassifier(random_state = 0)\n",
        "model.fit(X_train, y_train)"
      ],
      "metadata": {
        "colab": {
          "base_uri": "https://localhost:8080/",
          "height": 74
        },
        "id": "-8TP_saGsCBB",
        "outputId": "e6ddf9a4-affc-45c2-a84d-af547f868f06"
      },
      "execution_count": 51,
      "outputs": [
        {
          "output_type": "execute_result",
          "data": {
            "text/plain": [
              "RandomForestClassifier(random_state=0)"
            ],
            "text/html": [
              "<style>#sk-container-id-2 {color: black;}#sk-container-id-2 pre{padding: 0;}#sk-container-id-2 div.sk-toggleable {background-color: white;}#sk-container-id-2 label.sk-toggleable__label {cursor: pointer;display: block;width: 100%;margin-bottom: 0;padding: 0.3em;box-sizing: border-box;text-align: center;}#sk-container-id-2 label.sk-toggleable__label-arrow:before {content: \"▸\";float: left;margin-right: 0.25em;color: #696969;}#sk-container-id-2 label.sk-toggleable__label-arrow:hover:before {color: black;}#sk-container-id-2 div.sk-estimator:hover label.sk-toggleable__label-arrow:before {color: black;}#sk-container-id-2 div.sk-toggleable__content {max-height: 0;max-width: 0;overflow: hidden;text-align: left;background-color: #f0f8ff;}#sk-container-id-2 div.sk-toggleable__content pre {margin: 0.2em;color: black;border-radius: 0.25em;background-color: #f0f8ff;}#sk-container-id-2 input.sk-toggleable__control:checked~div.sk-toggleable__content {max-height: 200px;max-width: 100%;overflow: auto;}#sk-container-id-2 input.sk-toggleable__control:checked~label.sk-toggleable__label-arrow:before {content: \"▾\";}#sk-container-id-2 div.sk-estimator input.sk-toggleable__control:checked~label.sk-toggleable__label {background-color: #d4ebff;}#sk-container-id-2 div.sk-label input.sk-toggleable__control:checked~label.sk-toggleable__label {background-color: #d4ebff;}#sk-container-id-2 input.sk-hidden--visually {border: 0;clip: rect(1px 1px 1px 1px);clip: rect(1px, 1px, 1px, 1px);height: 1px;margin: -1px;overflow: hidden;padding: 0;position: absolute;width: 1px;}#sk-container-id-2 div.sk-estimator {font-family: monospace;background-color: #f0f8ff;border: 1px dotted black;border-radius: 0.25em;box-sizing: border-box;margin-bottom: 0.5em;}#sk-container-id-2 div.sk-estimator:hover {background-color: #d4ebff;}#sk-container-id-2 div.sk-parallel-item::after {content: \"\";width: 100%;border-bottom: 1px solid gray;flex-grow: 1;}#sk-container-id-2 div.sk-label:hover label.sk-toggleable__label {background-color: #d4ebff;}#sk-container-id-2 div.sk-serial::before {content: \"\";position: absolute;border-left: 1px solid gray;box-sizing: border-box;top: 0;bottom: 0;left: 50%;z-index: 0;}#sk-container-id-2 div.sk-serial {display: flex;flex-direction: column;align-items: center;background-color: white;padding-right: 0.2em;padding-left: 0.2em;position: relative;}#sk-container-id-2 div.sk-item {position: relative;z-index: 1;}#sk-container-id-2 div.sk-parallel {display: flex;align-items: stretch;justify-content: center;background-color: white;position: relative;}#sk-container-id-2 div.sk-item::before, #sk-container-id-2 div.sk-parallel-item::before {content: \"\";position: absolute;border-left: 1px solid gray;box-sizing: border-box;top: 0;bottom: 0;left: 50%;z-index: -1;}#sk-container-id-2 div.sk-parallel-item {display: flex;flex-direction: column;z-index: 1;position: relative;background-color: white;}#sk-container-id-2 div.sk-parallel-item:first-child::after {align-self: flex-end;width: 50%;}#sk-container-id-2 div.sk-parallel-item:last-child::after {align-self: flex-start;width: 50%;}#sk-container-id-2 div.sk-parallel-item:only-child::after {width: 0;}#sk-container-id-2 div.sk-dashed-wrapped {border: 1px dashed gray;margin: 0 0.4em 0.5em 0.4em;box-sizing: border-box;padding-bottom: 0.4em;background-color: white;}#sk-container-id-2 div.sk-label label {font-family: monospace;font-weight: bold;display: inline-block;line-height: 1.2em;}#sk-container-id-2 div.sk-label-container {text-align: center;}#sk-container-id-2 div.sk-container {/* jupyter's `normalize.less` sets `[hidden] { display: none; }` but bootstrap.min.css set `[hidden] { display: none !important; }` so we also need the `!important` here to be able to override the default hidden behavior on the sphinx rendered scikit-learn.org. See: https://github.com/scikit-learn/scikit-learn/issues/21755 */display: inline-block !important;position: relative;}#sk-container-id-2 div.sk-text-repr-fallback {display: none;}</style><div id=\"sk-container-id-2\" class=\"sk-top-container\"><div class=\"sk-text-repr-fallback\"><pre>RandomForestClassifier(random_state=0)</pre><b>In a Jupyter environment, please rerun this cell to show the HTML representation or trust the notebook. <br />On GitHub, the HTML representation is unable to render, please try loading this page with nbviewer.org.</b></div><div class=\"sk-container\" hidden><div class=\"sk-item\"><div class=\"sk-estimator sk-toggleable\"><input class=\"sk-toggleable__control sk-hidden--visually\" id=\"sk-estimator-id-2\" type=\"checkbox\" checked><label for=\"sk-estimator-id-2\" class=\"sk-toggleable__label sk-toggleable__label-arrow\">RandomForestClassifier</label><div class=\"sk-toggleable__content\"><pre>RandomForestClassifier(random_state=0)</pre></div></div></div></div></div>"
            ]
          },
          "metadata": {},
          "execution_count": 51
        }
      ]
    },
    {
      "cell_type": "code",
      "source": [
        "# Evaluate the model\n",
        "y_pred = model.predict(X_test)      ##We won't predict with accuracy as the data is not balanced, rather we use ROC or F1score.\n",
        "y_pred_prob = model.predict_proba(X_test)[:, 1]  ## you predict in terms of probablity for classification problems."
      ],
      "metadata": {
        "id": "ZXSRze3VtIL4"
      },
      "execution_count": 52,
      "outputs": []
    },
    {
      "cell_type": "code",
      "source": [
        "y_pred"
      ],
      "metadata": {
        "colab": {
          "base_uri": "https://localhost:8080/"
        },
        "id": "U4jzw5MZtOrI",
        "outputId": "c08b23fc-861e-49a8-c5c4-856a26c4c4d3"
      },
      "execution_count": 53,
      "outputs": [
        {
          "output_type": "execute_result",
          "data": {
            "text/plain": [
              "array([0, 0, 0, ..., 1, 0, 0])"
            ]
          },
          "metadata": {},
          "execution_count": 53
        }
      ]
    },
    {
      "cell_type": "code",
      "source": [
        "# y_test, y_pred, and y_pred_prob are defined\n",
        "conf_matrix = confusion_matrix(y_test, y_pred)  ##Confusion matrix\n",
        "roc_auc = roc_auc_score(y_test, y_pred_prob)    ##ROC accuracy\n",
        "accuracy = accuracy_score(y_test,y_pred)        ## Normal accuracy score\n",
        "\n",
        "print(\"Confusion Matrix:\\n\", conf_matrix)\n",
        "print(\"ROC AUC Score:\", round(roc_auc,2))\n",
        "print(\"Accuracy : \" + str(round(accuracy,2) * 100) + \" %\")"
      ],
      "metadata": {
        "colab": {
          "base_uri": "https://localhost:8080/"
        },
        "id": "HbzUXanltO3O",
        "outputId": "5636f8e6-c6f9-4b6b-e3a8-61f1734aa473"
      },
      "execution_count": 54,
      "outputs": [
        {
          "output_type": "stream",
          "name": "stdout",
          "text": [
            "Confusion Matrix:\n",
            " [[60134  4889]\n",
            " [ 5766  9211]]\n",
            "ROC AUC Score: 0.9\n",
            "Accuracy : 87.0 %\n"
          ]
        }
      ]
    },
    {
      "cell_type": "code",
      "source": [
        "# Print the classification report\n",
        "classification_report_output = classification_report(y_test, y_pred)\n",
        "print(classification_report_output)"
      ],
      "metadata": {
        "colab": {
          "base_uri": "https://localhost:8080/"
        },
        "id": "DppLsbTVtO_k",
        "outputId": "2e19b402-caba-494f-b004-6d4f82d6cef1"
      },
      "execution_count": 55,
      "outputs": [
        {
          "output_type": "stream",
          "name": "stdout",
          "text": [
            "              precision    recall  f1-score   support\n",
            "\n",
            "           0       0.91      0.92      0.92     65023\n",
            "           1       0.65      0.62      0.63     14977\n",
            "\n",
            "    accuracy                           0.87     80000\n",
            "   macro avg       0.78      0.77      0.78     80000\n",
            "weighted avg       0.86      0.87      0.87     80000\n",
            "\n"
          ]
        }
      ]
    },
    {
      "cell_type": "code",
      "source": [
        "# Save the model to a file\n",
        "joblib.dump(model, \"Capstone_Proj.pkl\")\n"
      ],
      "metadata": {
        "colab": {
          "base_uri": "https://localhost:8080/"
        },
        "id": "CC7UQFFStPGF",
        "outputId": "645bbfcc-d79e-44a1-ee1b-6818017d121a"
      },
      "execution_count": 56,
      "outputs": [
        {
          "output_type": "execute_result",
          "data": {
            "text/plain": [
              "['Capstone_Proj.pkl']"
            ]
          },
          "metadata": {},
          "execution_count": 56
        }
      ]
    },
    {
      "cell_type": "code",
      "source": [],
      "metadata": {
        "id": "AbQo297VtPMM"
      },
      "execution_count": 56,
      "outputs": []
    }
  ]
}